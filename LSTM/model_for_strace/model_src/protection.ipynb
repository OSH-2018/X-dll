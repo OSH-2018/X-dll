{
 "cells": [
  {
   "cell_type": "code",
   "execution_count": 2,
   "metadata": {},
   "outputs": [
    {
     "name": "stderr",
     "output_type": "stream",
     "text": [
      "/home/drdh/.local/lib/python3.5/site-packages/h5py/__init__.py:36: FutureWarning: Conversion of the second argument of issubdtype from `float` to `np.floating` is deprecated. In future, it will be treated as `np.float64 == np.dtype(float).type`.\n",
      "  from ._conv import register_converters as _register_converters\n",
      "Using TensorFlow backend.\n"
     ]
    }
   ],
   "source": [
    "from keras.layers import Dense,Activation\n",
    "from keras.layers.recurrent import SimpleRNN\n",
    "from keras.models import Sequential\n",
    "from keras.utils import plot_model\n",
    "import numpy as np\n",
    "import matplotlib.pyplot as plt\n",
    "from keras.models import load_model\n",
    "from keras.utils import to_categorical"
   ]
  },
  {
   "cell_type": "code",
   "execution_count": 3,
   "metadata": {},
   "outputs": [],
   "source": [
    "protection=np.load(\"../data/generate_data/protection\")"
   ]
  },
  {
   "cell_type": "code",
   "execution_count": 4,
   "metadata": {},
   "outputs": [],
   "source": [
    "SEQLEN=10\n",
    "STEP=1\n",
    "\n",
    "input_protection=[]\n",
    "label_protection=[]\n",
    "for i in range(0,len(protection)-SEQLEN,STEP):\n",
    "    input_protection.append(protection[i:i+SEQLEN])\n",
    "    label_protection.append(protection[i+SEQLEN])"
   ]
  },
  {
   "cell_type": "code",
   "execution_count": 5,
   "metadata": {},
   "outputs": [],
   "source": [
    "PROTECTION_TYPE=3\n",
    "X=np.zeros((len(input_protection),SEQLEN,PROTECTION_TYPE),dtype=np.bool)\n",
    "y=np.zeros((len(input_protection),PROTECTION_TYPE),dtype=np.bool)\n",
    "for i,input_pr in enumerate(input_protection):\n",
    "    for j,pr in enumerate(input_pr):\n",
    "        X[i,j,pr]=1\n",
    "    y[i,label_protection[i]]=1"
   ]
  },
  {
   "cell_type": "code",
   "execution_count": 6,
   "metadata": {},
   "outputs": [],
   "source": [
    "HIDDEN_SIZE=32\n",
    "BATCH_SIZE=32\n",
    "NUM_ITERATION=25\n",
    "NUM_EPOCHS_PER_ITERATION=1\n",
    "NUM_PREDS_PER_EPOCHS=10\n",
    "\n",
    "model=Sequential()\n",
    "model.add(SimpleRNN(HIDDEN_SIZE,return_sequences=False,input_shape=(SEQLEN,PROTECTION_TYPE),unroll=True))\n",
    "model.add(Dense(PROTECTION_TYPE))\n",
    "model.add(Activation(\"softmax\"))\n",
    "\n",
    "model.compile(loss=\"categorical_crossentropy\",optimizer=\"rmsprop\",metrics=['acc'])"
   ]
  },
  {
   "cell_type": "code",
   "execution_count": 7,
   "metadata": {},
   "outputs": [
    {
     "name": "stdout",
     "output_type": "stream",
     "text": [
      "_________________________________________________________________\n",
      "Layer (type)                 Output Shape              Param #   \n",
      "=================================================================\n",
      "simple_rnn_1 (SimpleRNN)     (None, 32)                1152      \n",
      "_________________________________________________________________\n",
      "dense_1 (Dense)              (None, 3)                 99        \n",
      "_________________________________________________________________\n",
      "activation_1 (Activation)    (None, 3)                 0         \n",
      "=================================================================\n",
      "Total params: 1,251\n",
      "Trainable params: 1,251\n",
      "Non-trainable params: 0\n",
      "_________________________________________________________________\n"
     ]
    }
   ],
   "source": [
    "plot_model(model,to_file=\"../img/protection_SimpleRNN_model.png\",show_shapes=True)\n",
    "model.summary()"
   ]
  },
  {
   "cell_type": "code",
   "execution_count": 8,
   "metadata": {},
   "outputs": [
    {
     "name": "stdout",
     "output_type": "stream",
     "text": [
      "Train on 1773 samples, validate on 3 samples\n",
      "Epoch 1/5\n",
      "1773/1773 [==============================] - 0s 200us/step - loss: 0.2363 - acc: 0.9600 - val_loss: 0.0321 - val_acc: 1.0000\n",
      "Epoch 2/5\n",
      "1773/1773 [==============================] - 0s 91us/step - loss: 0.0489 - acc: 0.9898 - val_loss: 0.0112 - val_acc: 1.0000\n",
      "Epoch 3/5\n",
      "1773/1773 [==============================] - 0s 73us/step - loss: 0.0364 - acc: 0.9921 - val_loss: 0.0109 - val_acc: 1.0000\n",
      "Epoch 4/5\n",
      "1773/1773 [==============================] - 0s 97us/step - loss: 0.0302 - acc: 0.9932 - val_loss: 0.0057 - val_acc: 1.0000\n",
      "Epoch 5/5\n",
      "1773/1773 [==============================] - 0s 94us/step - loss: 0.0267 - acc: 0.9944 - val_loss: 0.0038 - val_acc: 1.0000\n"
     ]
    }
   ],
   "source": [
    "X_val=np.zeros((3,SEQLEN,PROTECTION_TYPE))\n",
    "y_val=np.zeros((3,PROTECTION_TYPE))\n",
    "for i in range(3):\n",
    "    for j in range(SEQLEN):\n",
    "        X_val[i,j,i]=1\n",
    "    y_val[i,i]=1\n",
    "\n",
    "history=model.fit(X,y,batch_size=BATCH_SIZE,epochs=5,validation_data=(X_val,y_val))"
   ]
  },
  {
   "cell_type": "code",
   "execution_count": 9,
   "metadata": {},
   "outputs": [
    {
     "data": {
      "image/png": "[encoded data removed]",
      "text/plain": [
       "<Figure size 432x288 with 1 Axes>"
      ]
     },
     "metadata": {},
     "output_type": "display_data"
    }
   ],
   "source": [
    "acc=history.history['acc']\n",
    "val_acc=history.history['val_acc']\n",
    "loss=history.history['loss']\n",
    "val_loss=history.history['val_loss']\n",
    "\n",
    "epochs=range(1,len(acc)+1)\n",
    "\n",
    "plt.plot(epochs,acc,'b',label=\"Training acc\")\n",
    "plt.plot(epochs,val_acc,'g',label=\"Validation acc\")\n",
    "plt.plot(epochs,loss,'r',label=\"Training loss\")\n",
    "plt.plot(epochs,val_loss,'y',label=\"validation loss\")\n",
    "\n",
    "plt.legend()\n",
    "#plt.figure()\n",
    "plt.savefig(\"../img/protection_SimpleRNN.png\")\n",
    "#plt.show()"
   ]
  },
  {
   "cell_type": "code",
   "execution_count": 10,
   "metadata": {},
   "outputs": [],
   "source": [
    "model.save(\"../model/protection_SimpleRNN.h5\")\n",
    "model_r=load_model(\"../model/protection_SimpleRNN.h5\")"
   ]
  },
  {
   "cell_type": "code",
   "execution_count": 18,
   "metadata": {},
   "outputs": [
    {
     "data": {
      "text/plain": [
       "[0, 1, 2]"
      ]
     },
     "execution_count": 18,
     "metadata": {},
     "output_type": "execute_result"
    }
   ],
   "source": [
    "X_test=np.zeros((3,1,SEQLEN,PROTECTION_TYPE))\n",
    "for i in range(3):\n",
    "    for j in range(SEQLEN):\n",
    "        X_test[i,0,j,i]=1\n",
    "\n",
    "ypred=[]\n",
    "for i in range(3):\n",
    "    pred=model_r.predict(X_test[i],verbose=0)[0]\n",
    "    ypred.append(np.argmax(pred))\n",
    "ypred"
   ]
  },
  {
   "cell_type": "code",
   "execution_count": 11,
   "metadata": {},
   "outputs": [
    {
     "data": {
      "text/plain": [
       "<module 'predict' from '/home/drdh/lx/X-dll/LSTM/model/model_src/predict.py'>"
      ]
     },
     "execution_count": 11,
     "metadata": {},
     "output_type": "execute_result"
    }
   ],
   "source": [
    "import predict\n",
    "import imp\n",
    "imp.reload(predict)"
   ]
  },
  {
   "cell_type": "code",
   "execution_count": 21,
   "metadata": {},
   "outputs": [
    {
     "data": {
      "text/plain": [
       "([0, 0, 0, 1, 2, 0, 0, 0, 0, 0],\n",
       " 1,\n",
       " 1,\n",
       " [0, 0, 1, 0, 0],\n",
       " 0,\n",
       " 0,\n",
       " 0,\n",
       " [0, 0, 0, 0],\n",
       " [0, 0, 0, 1],\n",
       " [0, 0, 1, 0],\n",
       " 0)"
      ]
     },
     "execution_count": 21,
     "metadata": {},
     "output_type": "execute_result"
    }
   ],
   "source": [
    "predict.network([10,11,12,3],36,1,[1,4],34,0,4,[18,6,2,17],[18,6,2,7],[18,6,2,7],1)"
   ]
  },
  {
   "cell_type": "code",
   "execution_count": null,
   "metadata": {},
   "outputs": [],
   "source": []
  }
 ],
 "metadata": {
  "kernelspec": {
   "display_name": "Python 3",
   "language": "python",
   "name": "python3"
  },
  "language_info": {
   "codemirror_mode": {
    "name": "ipython",
    "version": 3
   },
   "file_extension": ".py",
   "mimetype": "text/x-python",
   "name": "python",
   "nbconvert_exporter": "python",
   "pygments_lexer": "ipython3",
   "version": "3.5.4rc1"
  }
 },
 "nbformat": 4,
 "nbformat_minor": 2
}
