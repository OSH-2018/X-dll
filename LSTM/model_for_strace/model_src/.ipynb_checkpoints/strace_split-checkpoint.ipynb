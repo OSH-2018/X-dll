{
 "cells": [
  {
   "cell_type": "code",
   "execution_count": 7,
   "metadata": {},
   "outputs": [
    {
     "name": "stdout",
     "output_type": "stream",
     "text": [
      "8 list index out of range\n"
     ]
    }
   ],
   "source": [
    "f1=open(\"../data/temp_out\",\"r\")\n",
    "a=f1.readlines()\n",
    "b=[]\n",
    "c=[]\n",
    "for i in range(len(a)):\n",
    "    try:\n",
    "        b.append(a[i].split(\" \",3)[3].split(\",\")[0].split(\"(\")[1][1:-1].split(\"/\")[1:])\n",
    "        c.append(a[i].split(\" \",3)[3].split(\",\")[0].split(\"(\")[1][1:-1])\n",
    "    except Exception as e:\n",
    "        print(i,e)"
   ]
  },
  {
   "cell_type": "code",
   "execution_count": 137,
   "metadata": {},
   "outputs": [
    {
     "name": "stdout",
     "output_type": "stream",
     "text": [
      "22 list index out of range\n",
      "128 list index out of range\n",
      "138 list index out of range\n",
      "155 list index out of range\n"
     ]
    }
   ],
   "source": [
    "d=[]\n",
    "for i in range(len(b)): \n",
    "    try:\n",
    "        d.append(b[i][0])\n",
    "    except Exception as e:\n",
    "        print(i,e)"
   ]
  },
  {
   "cell_type": "code",
   "execution_count": 9,
   "metadata": {},
   "outputs": [],
   "source": [
    "op=[]\n",
    "name=[]\n",
    "f2=open(\"../data/trace\",\"r\")\n",
    "while True:\n",
    "    line=f2.readline()\n",
    "    if not line:\n",
    "        break\n",
    "    try:\n",
    "        name.append(line.split(\" \",3)[3].split(\",\")[0].split(\"(\")[1][1:-1].split(\"/\")[1:])\n",
    "        op.append(line.split(\" \",3)[3].split(\",\")[0].split(\"(\")[0])\n",
    "    except Exception as e:\n",
    "        pass\n",
    "        #print(line,e)"
   ]
  },
  {
   "cell_type": "code",
   "execution_count": 10,
   "metadata": {},
   "outputs": [
    {
     "data": {
      "text/plain": [
       "(1886050, 1886050)"
      ]
     },
     "execution_count": 10,
     "metadata": {},
     "output_type": "execute_result"
    }
   ],
   "source": [
    "len(op),len(name)"
   ]
  },
  {
   "cell_type": "code",
   "execution_count": 11,
   "metadata": {},
   "outputs": [],
   "source": [
    "busybox_name=[]\n",
    "busybox_op=[]\n",
    "for i in range(len(name)):\n",
    "    try:\n",
    "        if(name[i][0]==\"home\"):\n",
    "            busybox_name.append(name[i][3:])\n",
    "            busybox_op.append(op[i])\n",
    "    except Exception as e:\n",
    "        pass"
   ]
  },
  {
   "cell_type": "code",
   "execution_count": 12,
   "metadata": {},
   "outputs": [
    {
     "data": {
      "text/plain": [
       "(20172, 20172)"
      ]
     },
     "execution_count": 12,
     "metadata": {},
     "output_type": "execute_result"
    }
   ],
   "source": [
    "len(busybox_name),len(busybox_op)"
   ]
  },
  {
   "cell_type": "code",
   "execution_count": 13,
   "metadata": {},
   "outputs": [
    {
     "data": {
      "text/plain": [
       "['miscutils', 'devmem.c']"
      ]
     },
     "execution_count": 13,
     "metadata": {},
     "output_type": "execute_result"
    }
   ],
   "source": [
    "busybox_name[56][1:]"
   ]
  },
  {
   "cell_type": "code",
   "execution_count": 14,
   "metadata": {},
   "outputs": [],
   "source": [
    "core_name=[]\n",
    "for i in range(len(busybox_name)):\n",
    "    try:\n",
    "        if(len(busybox_name[i][1:])>=2):\n",
    "            core_name.append(busybox_name[i][1:])\n",
    "    except Exception as e:\n",
    "        pass\n",
    "len(core_name)\n",
    "core_name\n",
    "import numpy as np\n",
    "\n",
    "core=np.array(core_name)\n",
    "core.dump(\"../data/trace_core\")"
   ]
  },
  {
   "cell_type": "code",
   "execution_count": 15,
   "metadata": {},
   "outputs": [],
   "source": [
    "import numpy as np\n"
   ]
  },
  {
   "cell_type": "code",
   "execution_count": 16,
   "metadata": {},
   "outputs": [
    {
     "data": {
      "text/plain": [
       "(5, 8817)"
      ]
     },
     "execution_count": 16,
     "metadata": {},
     "output_type": "execute_result"
    }
   ],
   "source": [
    "core_name=np.load(\"../data/trace_core\")\n",
    "max_len=0\n",
    "position=0\n",
    "for i in range(len(core_name)):\n",
    "    if(6>len(core_name[i])>max_len):\n",
    "        max_len=len(core_name[i])\n",
    "        position=i\n",
    "max_len,position"
   ]
  },
  {
   "cell_type": "code",
   "execution_count": 17,
   "metadata": {},
   "outputs": [],
   "source": [
    "\n",
    "dir2={}\n",
    "name2={}\n",
    "unique2={}\n",
    "for i in range(len(core_name)):\n",
    "    try:\n",
    "        if(len(core_name[i])==2):\n",
    "            unique=core_name[i][0]+'/'+core_name[i][1]\n",
    "            if unique in unique2.keys():\n",
    "                unique2[unique]+=1\n",
    "            else:\n",
    "                unique2[unique]=1\n",
    "            if core_name[i][0] in dir2.keys():\n",
    "                dir2[core_name[i][0]]+=1\n",
    "            else:\n",
    "                dir2[core_name[i][0]]=1\n",
    "            if core_name[i][1] in name2.keys():\n",
    "                name2[core_name[i][1]]+=1\n",
    "            else:\n",
    "                name2[core_name[i][1]]=1\n",
    "            \n",
    "    except Exception as e:\n",
    "                      pass"
   ]
  },
  {
   "cell_type": "code",
   "execution_count": 20,
   "metadata": {},
   "outputs": [],
   "source": [
    "import matplotlib.pyplot as plt\n",
    "plt.plot(epochs,acc,'b',label=\"Training acc\")\n",
    "plt.plot(epochs,val_acc,'g',label=\"Validation acc\")\n",
    "plt.plot(epochs,loss,'r',label=\"Training loss\")\n",
    "plt.plot(epochs,val_loss,'y',label=\"validation loss\")\n",
    "\n",
    "plt.legend()\n",
    "#plt.figure()\n",
    "#plt.savefig(\"../img/temp.png\")\n",
    "#plt.show()"
   ]
  },
  {
   "cell_type": "code",
   "execution_count": 98,
   "metadata": {},
   "outputs": [],
   "source": [
    "w=np.load(\"../data/trace_core\")"
   ]
  },
  {
   "cell_type": "code",
   "execution_count": 102,
   "metadata": {},
   "outputs": [
    {
     "data": {
      "text/plain": [
       "(15909, 15909)"
      ]
     },
     "execution_count": 102,
     "metadata": {},
     "output_type": "execute_result"
    }
   ],
   "source": [
    "len(w),len(core_name)"
   ]
  },
  {
   "cell_type": "code",
   "execution_count": 105,
   "metadata": {},
   "outputs": [
    {
     "data": {
      "text/plain": [
       "list"
      ]
     },
     "execution_count": 105,
     "metadata": {},
     "output_type": "execute_result"
    }
   ],
   "source": [
    "type(w[2])"
   ]
  },
  {
   "cell_type": "code",
   "execution_count": null,
   "metadata": {},
   "outputs": [],
   "source": []
  }
 ],
 "metadata": {
  "kernelspec": {
   "display_name": "Python 3",
   "language": "python",
   "name": "python3"
  },
  "language_info": {
   "codemirror_mode": {
    "name": "ipython",
    "version": 3
   },
   "file_extension": ".py",
   "mimetype": "text/x-python",
   "name": "python",
   "nbconvert_exporter": "python",
   "pygments_lexer": "ipython3",
   "version": "3.5.4rc1"
  }
 },
 "nbformat": 4,
 "nbformat_minor": 2
}
