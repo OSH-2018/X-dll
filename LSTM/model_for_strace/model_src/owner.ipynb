{
 "cells": [
  {
   "cell_type": "code",
   "execution_count": 28,
   "metadata": {},
   "outputs": [],
   "source": [
    "from keras.layers import Dense,Activation\n",
    "from keras.layers.recurrent import SimpleRNN\n",
    "from keras.models import Sequential\n",
    "from keras.utils import plot_model\n",
    "import numpy as np\n",
    "import matplotlib.pyplot as plt\n",
    "from keras.models import load_model\n",
    "from keras.utils import to_categorical\n",
    "import random"
   ]
  },
  {
   "cell_type": "code",
   "execution_count": 8,
   "metadata": {},
   "outputs": [],
   "source": [
    "owner=np.load(\"../data/generate_data/owner\")"
   ]
  },
  {
   "cell_type": "code",
   "execution_count": 23,
   "metadata": {},
   "outputs": [],
   "source": [
    "SEQLEN=10\n",
    "STEP=1\n",
    "\n",
    "input_owner=[]\n",
    "label_owner=[]\n",
    "for i in range(0,len(owner)-SEQLEN,STEP):\n",
    "    input_owner.append(owner[i:i+SEQLEN])\n",
    "    label_owner.append(owner[i+SEQLEN])"
   ]
  },
  {
   "cell_type": "code",
   "execution_count": 39,
   "metadata": {},
   "outputs": [],
   "source": [
    "OWNER_TYPE=5\n",
    "X=np.zeros((len(input_owner),SEQLEN,OWNER_TYPE),dtype=np.bool)\n",
    "y=np.zeros((len(input_owner),OWNER_TYPE),dtype=np.bool)\n",
    "for i,input_ow in enumerate(input_owner):\n",
    "    for j,ow in enumerate(input_ow):\n",
    "        X[i,j,ow]=1\n",
    "    y[i,label_owner[i]]=1"
   ]
  },
  {
   "cell_type": "code",
   "execution_count": 68,
   "metadata": {},
   "outputs": [],
   "source": [
    "HIDDEN_SIZE=32\n",
    "BATCH_SIZE=32\n",
    "NUM_ITERATION=25\n",
    "NUM_EPOCHS_PER_ITERATION=1\n",
    "NUM_PREDS_PER_EPOCHS=10\n",
    "\n",
    "model=Sequential()\n",
    "model.add(SimpleRNN(HIDDEN_SIZE,return_sequences=False,input_shape=(SEQLEN,OWNER_TYPE),unroll=True))\n",
    "model.add(Dense(OWNER_TYPE))\n",
    "model.add(Activation(\"softmax\"))\n",
    "\n",
    "model.compile(loss=\"categorical_crossentropy\",optimizer=\"rmsprop\",metrics=['acc'])"
   ]
  },
  {
   "cell_type": "code",
   "execution_count": 69,
   "metadata": {},
   "outputs": [
    {
     "name": "stdout",
     "output_type": "stream",
     "text": [
      "_________________________________________________________________\n",
      "Layer (type)                 Output Shape              Param #   \n",
      "=================================================================\n",
      "simple_rnn_12 (SimpleRNN)    (None, 32)                1216      \n",
      "_________________________________________________________________\n",
      "dense_12 (Dense)             (None, 5)                 165       \n",
      "_________________________________________________________________\n",
      "activation_12 (Activation)   (None, 5)                 0         \n",
      "=================================================================\n",
      "Total params: 1,381\n",
      "Trainable params: 1,381\n",
      "Non-trainable params: 0\n",
      "_________________________________________________________________\n"
     ]
    }
   ],
   "source": [
    "plot_model(model,to_file=\"../img/owner_SimpleRNN_model.png\",show_shapes=True)\n",
    "model.summary()"
   ]
  },
  {
   "cell_type": "code",
   "execution_count": 70,
   "metadata": {},
   "outputs": [
    {
     "name": "stdout",
     "output_type": "stream",
     "text": [
      "Train on 1773 samples, validate on 5 samples\n",
      "Epoch 1/7\n",
      "1773/1773 [==============================] - 1s 347us/step - loss: 0.9907 - acc: 0.6858 - val_loss: 1.2957 - val_acc: 0.6000\n",
      "Epoch 2/7\n",
      "1773/1773 [==============================] - 0s 98us/step - loss: 0.3304 - acc: 0.9543 - val_loss: 0.7316 - val_acc: 0.8000\n",
      "Epoch 3/7\n",
      "1773/1773 [==============================] - 0s 103us/step - loss: 0.1342 - acc: 0.9825 - val_loss: 0.4050 - val_acc: 0.8000\n",
      "Epoch 4/7\n",
      "1773/1773 [==============================] - 0s 101us/step - loss: 0.0960 - acc: 0.9820 - val_loss: 0.2501 - val_acc: 1.0000\n",
      "Epoch 5/7\n",
      "1773/1773 [==============================] - 0s 104us/step - loss: 0.0846 - acc: 0.9831 - val_loss: 0.1892 - val_acc: 1.0000\n",
      "Epoch 6/7\n",
      "1773/1773 [==============================] - 0s 94us/step - loss: 0.0780 - acc: 0.9831 - val_loss: 0.2201 - val_acc: 1.0000\n",
      "Epoch 7/7\n",
      "1773/1773 [==============================] - 0s 95us/step - loss: 0.0724 - acc: 0.9842 - val_loss: 0.2311 - val_acc: 0.8000\n"
     ]
    }
   ],
   "source": [
    "X_val=np.zeros((5,SEQLEN,OWNER_TYPE))\n",
    "y_val=np.zeros((5,OWNER_TYPE))\n",
    "for i in range(5):\n",
    "    r=random.randint(0,500)\n",
    "    for j in range(SEQLEN):\n",
    "        X_val[i,j,(i*j+r)%5]=1\n",
    "    y_val[i,(i*SEQLEN+r)%5]=1\n",
    "\n",
    "\n",
    "history=model.fit(X,y,batch_size=BATCH_SIZE,epochs=7,validation_data=(X_val,y_val))"
   ]
  },
  {
   "cell_type": "code",
   "execution_count": 71,
   "metadata": {},
   "outputs": [
    {
     "data": {
      "image/png": "[encoded data removed]",
      "text/plain": [
       "<Figure size 432x288 with 1 Axes>"
      ]
     },
     "metadata": {},
     "output_type": "display_data"
    }
   ],
   "source": [
    "acc=history.history['acc']\n",
    "val_acc=history.history['val_acc']\n",
    "loss=history.history['loss']\n",
    "val_loss=history.history['val_loss']\n",
    "\n",
    "epochs=range(1,len(acc)+1)\n",
    "\n",
    "plt.plot(epochs,acc,'b',label=\"Training acc\")\n",
    "plt.plot(epochs,val_acc,'g',label=\"Validation acc\")\n",
    "plt.plot(epochs,loss,'r',label=\"Training loss\")\n",
    "plt.plot(epochs,val_loss,'y',label=\"validation loss\")\n",
    "\n",
    "plt.legend()\n",
    "#plt.figure()\n",
    "plt.savefig(\"../img/owner_SimpleRNN.png\")\n",
    "#plt.show()"
   ]
  },
  {
   "cell_type": "code",
   "execution_count": 72,
   "metadata": {},
   "outputs": [],
   "source": [
    "model.save(\"../model/owner_SimpleRNN.h5\")\n",
    "model_r=load_model(\"../model/owner_SimpleRNN.h5\")"
   ]
  },
  {
   "cell_type": "code",
   "execution_count": 74,
   "metadata": {},
   "outputs": [
    {
     "data": {
      "text/plain": [
       "<module 'predict' from '/home/drdh/lx/X-dll/LSTM/model/model_src/predict.py'>"
      ]
     },
     "execution_count": 74,
     "metadata": {},
     "output_type": "execute_result"
    }
   ],
   "source": [
    "import predict\n",
    "import imp\n",
    "imp.reload(predict)"
   ]
  },
  {
   "cell_type": "code",
   "execution_count": 82,
   "metadata": {},
   "outputs": [
    {
     "data": {
      "text/plain": [
       "([0, 0, 0, 1, 2, 0, 0, 0, 0, 0],\n",
       " 1,\n",
       " 1,\n",
       " [0, 0, 1, 0, 0],\n",
       " 0,\n",
       " 1,\n",
       " 1,\n",
       " [0, 0, 0, 0],\n",
       " [0, 0, 0, 1],\n",
       " [0, 0, 1, 0],\n",
       " 1)"
      ]
     },
     "execution_count": 82,
     "metadata": {},
     "output_type": "execute_result"
    }
   ],
   "source": [
    "predict.network([10,11,12,3],36,1,[1,4],34,1,1,[18,6,2,17],[18,6,2,7],[18,6,2,7],1)"
   ]
  },
  {
   "cell_type": "code",
   "execution_count": null,
   "metadata": {},
   "outputs": [],
   "source": []
  }
 ],
 "metadata": {
  "kernelspec": {
   "display_name": "Python 3",
   "language": "python",
   "name": "python3"
  },
  "language_info": {
   "codemirror_mode": {
    "name": "ipython",
    "version": 3
   },
   "file_extension": ".py",
   "mimetype": "text/x-python",
   "name": "python",
   "nbconvert_exporter": "python",
   "pygments_lexer": "ipython3",
   "version": "3.5.4rc1"
  }
 },
 "nbformat": 4,
 "nbformat_minor": 2
}
