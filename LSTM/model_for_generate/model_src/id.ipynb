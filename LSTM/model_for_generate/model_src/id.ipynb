{
 "cells": [
  {
   "cell_type": "code",
   "execution_count": 1,
   "metadata": {},
   "outputs": [],
   "source": [
    "import numpy as np\n",
    "import matplotlib.pyplot as plt"
   ]
  },
  {
   "cell_type": "code",
   "execution_count": 2,
   "metadata": {},
   "outputs": [],
   "source": [
    "id=np.load(\"../data/generate_data/id\")"
   ]
  },
  {
   "cell_type": "code",
   "execution_count": 3,
   "metadata": {},
   "outputs": [
    {
     "data": {
      "image/png": "[encoded data removed]",
      "text/plain": [
       "<Figure size 432x288 with 1 Axes>"
      ]
     },
     "metadata": {},
     "output_type": "display_data"
    }
   ],
   "source": [
    "plt.plot(range(len(id)),id)\n",
    "plt.ylabel(\"id\")\n",
    "plt.xlabel(\"time\")\n",
    "plt.savefig(\"../img/id_tendency\")"
   ]
  },
  {
   "cell_type": "code",
   "execution_count": 4,
   "metadata": {},
   "outputs": [
    {
     "name": "stderr",
     "output_type": "stream",
     "text": [
      "/home/drdh/.local/lib/python3.5/site-packages/h5py/__init__.py:36: FutureWarning: Conversion of the second argument of issubdtype from `float` to `np.floating` is deprecated. In future, it will be treated as `np.float64 == np.dtype(float).type`.\n",
      "  from ._conv import register_converters as _register_converters\n",
      "Using TensorFlow backend.\n"
     ]
    }
   ],
   "source": [
    "from keras.layers.core import Dense,Activation\n",
    "from keras.layers.recurrent import SimpleRNN,LSTM\n",
    "from keras.models import Sequential\n",
    "from sklearn.preprocessing import MinMaxScaler\n",
    "import numpy as np\n",
    "import math\n",
    "import os\n",
    "from keras.utils import plot_model\n",
    "from keras.models import load_model"
   ]
  },
  {
   "cell_type": "code",
   "execution_count": 5,
   "metadata": {},
   "outputs": [
    {
     "data": {
      "text/plain": [
       "(1783, 1)"
      ]
     },
     "execution_count": 5,
     "metadata": {},
     "output_type": "execute_result"
    }
   ],
   "source": [
    "id=np.load(\"../data/generate_data/id\")\n",
    "id=id.reshape(-1,1)\n",
    "id=np.divide(id,1000)\n",
    "id.shape"
   ]
  },
  {
   "cell_type": "code",
   "execution_count": 6,
   "metadata": {},
   "outputs": [],
   "source": [
    "NUM_TIMESTEPS=10\n",
    "HIDDEN_SIZE=32\n",
    "BATCH_SIZE=32\n",
    "\n",
    "X=np.zeros((id.shape[0],NUM_TIMESTEPS))\n",
    "Y=np.zeros((id.shape[0],1))\n",
    "\n",
    "for i in range(len(id)-NUM_TIMESTEPS):\n",
    "    X[i]=id[i:i+NUM_TIMESTEPS].T\n",
    "    Y[i]=id[i+NUM_TIMESTEPS]-id[i+NUM_TIMESTEPS-1]\n",
    "X=np.expand_dims(X,axis=2)"
   ]
  },
  {
   "cell_type": "code",
   "execution_count": 7,
   "metadata": {},
   "outputs": [],
   "source": [
    "sp=int(0.85*len(id))\n",
    "Xtrain,Xtest,Ytrain,Ytest=X[0:sp],X[sp:],Y[0:sp],Y[sp:]"
   ]
  },
  {
   "cell_type": "code",
   "execution_count": 13,
   "metadata": {},
   "outputs": [
    {
     "name": "stdout",
     "output_type": "stream",
     "text": [
      "Train on 1515 samples, validate on 268 samples\n",
      "Epoch 1/40\n",
      "1515/1515 [==============================] - 1s 664us/step - loss: 0.0018 - mean_squared_error: 0.0018 - val_loss: 0.0037 - val_mean_squared_error: 0.0037\n",
      "Epoch 2/40\n",
      "1515/1515 [==============================] - 1s 371us/step - loss: 0.0015 - mean_squared_error: 0.0015 - val_loss: 0.0037 - val_mean_squared_error: 0.0037\n",
      "Epoch 3/40\n",
      "1515/1515 [==============================] - 1s 361us/step - loss: 0.0015 - mean_squared_error: 0.0015 - val_loss: 0.0039 - val_mean_squared_error: 0.0039\n",
      "Epoch 4/40\n",
      "1515/1515 [==============================] - 1s 365us/step - loss: 0.0015 - mean_squared_error: 0.0015 - val_loss: 0.0037 - val_mean_squared_error: 0.0037\n",
      "Epoch 5/40\n",
      "1515/1515 [==============================] - 1s 361us/step - loss: 0.0015 - mean_squared_error: 0.0015 - val_loss: 0.0037 - val_mean_squared_error: 0.0037\n",
      "Epoch 6/40\n",
      "1515/1515 [==============================] - 1s 370us/step - loss: 0.0015 - mean_squared_error: 0.0015 - val_loss: 0.0037 - val_mean_squared_error: 0.0037\n",
      "Epoch 7/40\n",
      "1515/1515 [==============================] - 0s 293us/step - loss: 0.0015 - mean_squared_error: 0.0015 - val_loss: 0.0037 - val_mean_squared_error: 0.0037\n",
      "Epoch 8/40\n",
      "1515/1515 [==============================] - 1s 372us/step - loss: 0.0015 - mean_squared_error: 0.0015 - val_loss: 0.0037 - val_mean_squared_error: 0.0037\n",
      "Epoch 9/40\n",
      "1515/1515 [==============================] - 1s 355us/step - loss: 0.0015 - mean_squared_error: 0.0015 - val_loss: 0.0037 - val_mean_squared_error: 0.0037\n",
      "Epoch 10/40\n",
      "1515/1515 [==============================] - 1s 345us/step - loss: 0.0015 - mean_squared_error: 0.0015 - val_loss: 0.0038 - val_mean_squared_error: 0.0038\n",
      "Epoch 11/40\n",
      "1515/1515 [==============================] - 1s 344us/step - loss: 0.0015 - mean_squared_error: 0.0015 - val_loss: 0.0037 - val_mean_squared_error: 0.0037\n",
      "Epoch 12/40\n",
      "1515/1515 [==============================] - 1s 345us/step - loss: 0.0015 - mean_squared_error: 0.0015 - val_loss: 0.0041 - val_mean_squared_error: 0.0041\n",
      "Epoch 13/40\n",
      "1515/1515 [==============================] - 1s 361us/step - loss: 0.0015 - mean_squared_error: 0.0015 - val_loss: 0.0037 - val_mean_squared_error: 0.0037\n",
      "Epoch 14/40\n",
      "1515/1515 [==============================] - 1s 358us/step - loss: 0.0015 - mean_squared_error: 0.0015 - val_loss: 0.0037 - val_mean_squared_error: 0.0037\n",
      "Epoch 15/40\n",
      "1515/1515 [==============================] - 0s 327us/step - loss: 0.0015 - mean_squared_error: 0.0015 - val_loss: 0.0037 - val_mean_squared_error: 0.0037\n",
      "Epoch 16/40\n",
      "1515/1515 [==============================] - 1s 343us/step - loss: 0.0015 - mean_squared_error: 0.0015 - val_loss: 0.0038 - val_mean_squared_error: 0.0038\n",
      "Epoch 17/40\n",
      "1515/1515 [==============================] - 0s 323us/step - loss: 0.0015 - mean_squared_error: 0.0015 - val_loss: 0.0037 - val_mean_squared_error: 0.0037\n",
      "Epoch 18/40\n",
      "1515/1515 [==============================] - 1s 333us/step - loss: 0.0015 - mean_squared_error: 0.0015 - val_loss: 0.0038 - val_mean_squared_error: 0.0038\n",
      "Epoch 19/40\n",
      "1515/1515 [==============================] - 0s 278us/step - loss: 0.0015 - mean_squared_error: 0.0015 - val_loss: 0.0037 - val_mean_squared_error: 0.0037\n",
      "Epoch 20/40\n",
      "1515/1515 [==============================] - 1s 346us/step - loss: 0.0015 - mean_squared_error: 0.0015 - val_loss: 0.0038 - val_mean_squared_error: 0.0038\n",
      "Epoch 21/40\n",
      "1515/1515 [==============================] - 0s 322us/step - loss: 0.0015 - mean_squared_error: 0.0015 - val_loss: 0.0037 - val_mean_squared_error: 0.0037\n",
      "Epoch 22/40\n",
      "1515/1515 [==============================] - 0s 305us/step - loss: 0.0015 - mean_squared_error: 0.0015 - val_loss: 0.0037 - val_mean_squared_error: 0.0037\n",
      "Epoch 23/40\n",
      "1515/1515 [==============================] - 0s 325us/step - loss: 0.0015 - mean_squared_error: 0.0015 - val_loss: 0.0037 - val_mean_squared_error: 0.0037\n",
      "Epoch 24/40\n",
      "1515/1515 [==============================] - 0s 308us/step - loss: 0.0015 - mean_squared_error: 0.0015 - val_loss: 0.0037 - val_mean_squared_error: 0.0037\n",
      "Epoch 25/40\n",
      "1515/1515 [==============================] - 0s 311us/step - loss: 0.0015 - mean_squared_error: 0.0015 - val_loss: 0.0037 - val_mean_squared_error: 0.0037\n",
      "Epoch 26/40\n",
      "1515/1515 [==============================] - 0s 311us/step - loss: 0.0015 - mean_squared_error: 0.0015 - val_loss: 0.0038 - val_mean_squared_error: 0.0038\n",
      "Epoch 27/40\n",
      "1515/1515 [==============================] - 0s 320us/step - loss: 0.0015 - mean_squared_error: 0.0015 - val_loss: 0.0037 - val_mean_squared_error: 0.0037\n",
      "Epoch 28/40\n",
      "1515/1515 [==============================] - 0s 305us/step - loss: 0.0015 - mean_squared_error: 0.0015 - val_loss: 0.0037 - val_mean_squared_error: 0.0037\n",
      "Epoch 29/40\n",
      "1515/1515 [==============================] - 0s 309us/step - loss: 0.0015 - mean_squared_error: 0.0015 - val_loss: 0.0037 - val_mean_squared_error: 0.0037\n",
      "Epoch 30/40\n",
      "1515/1515 [==============================] - 0s 301us/step - loss: 0.0015 - mean_squared_error: 0.0015 - val_loss: 0.0037 - val_mean_squared_error: 0.0037\n",
      "Epoch 31/40\n",
      "1515/1515 [==============================] - 0s 248us/step - loss: 0.0015 - mean_squared_error: 0.0015 - val_loss: 0.0037 - val_mean_squared_error: 0.0037\n",
      "Epoch 32/40\n",
      "1515/1515 [==============================] - 0s 303us/step - loss: 0.0015 - mean_squared_error: 0.0015 - val_loss: 0.0037 - val_mean_squared_error: 0.0037\n",
      "Epoch 33/40\n",
      "1515/1515 [==============================] - 0s 300us/step - loss: 0.0015 - mean_squared_error: 0.0015 - val_loss: 0.0037 - val_mean_squared_error: 0.0037\n",
      "Epoch 34/40\n",
      "1515/1515 [==============================] - 0s 309us/step - loss: 0.0015 - mean_squared_error: 0.0015 - val_loss: 0.0037 - val_mean_squared_error: 0.0037\n",
      "Epoch 35/40\n",
      "1515/1515 [==============================] - 0s 305us/step - loss: 0.0015 - mean_squared_error: 0.0015 - val_loss: 0.0037 - val_mean_squared_error: 0.0037\n",
      "Epoch 36/40\n",
      "1515/1515 [==============================] - 0s 289us/step - loss: 0.0015 - mean_squared_error: 0.0015 - val_loss: 0.0037 - val_mean_squared_error: 0.0037\n",
      "Epoch 37/40\n",
      "1515/1515 [==============================] - 0s 297us/step - loss: 0.0015 - mean_squared_error: 0.0015 - val_loss: 0.0037 - val_mean_squared_error: 0.0037\n",
      "Epoch 38/40\n",
      "1515/1515 [==============================] - 0s 305us/step - loss: 0.0015 - mean_squared_error: 0.0015 - val_loss: 0.0037 - val_mean_squared_error: 0.0037\n",
      "Epoch 39/40\n",
      "1515/1515 [==============================] - 0s 289us/step - loss: 0.0015 - mean_squared_error: 0.0015 - val_loss: 0.0037 - val_mean_squared_error: 0.0037\n",
      "Epoch 40/40\n",
      "1515/1515 [==============================] - 0s 292us/step - loss: 0.0015 - mean_squared_error: 0.0015 - val_loss: 0.0037 - val_mean_squared_error: 0.0037\n",
      "_________________________________________________________________\n",
      "Layer (type)                 Output Shape              Param #   \n",
      "=================================================================\n",
      "lstm_2 (LSTM)                (None, 32)                4352      \n",
      "_________________________________________________________________\n",
      "dense_3 (Dense)              (None, 1)                 33        \n",
      "=================================================================\n",
      "Total params: 4,385\n",
      "Trainable params: 4,385\n",
      "Non-trainable params: 0\n",
      "_________________________________________________________________\n"
     ]
    }
   ],
   "source": [
    "NUM_EPOCHS=40\n",
    "model=Sequential()\n",
    "model.add(LSTM(HIDDEN_SIZE,input_shape=(NUM_TIMESTEPS,1),return_sequences=False))\n",
    "model.add(Dense(1))\n",
    "#model.add(Activation(\"softmax\"))\n",
    "\n",
    "model.compile(loss=\"mean_squared_error\",optimizer=\"adam\",metrics=[\"mean_squared_error\"])\n",
    "\n",
    "history=model.fit(Xtrain,Ytrain,epochs=NUM_EPOCHS,batch_size=BATCH_SIZE,validation_data=(Xtest,Ytest))\n",
    "plot_model(model,to_file=\"../img/id_LSTM_model.png\",show_shapes=True)\n",
    "model.summary()"
   ]
  },
  {
   "cell_type": "code",
   "execution_count": 14,
   "metadata": {},
   "outputs": [
    {
     "data": {
      "image/png": "[encoded data removed]",
      "text/plain": [
       "<Figure size 432x288 with 1 Axes>"
      ]
     },
     "metadata": {},
     "output_type": "display_data"
    }
   ],
   "source": [
    "mean=history.history['mean_squared_error']\n",
    "val_mean=history.history['val_mean_squared_error']\n",
    "loss=history.history['loss']\n",
    "val_loss=history.history['val_loss']\n",
    "\n",
    "epochs=range(1,len(mean)+1)\n",
    "\n",
    "#plt.plot(epochs,mean,'b',label=\"Training mean\")\n",
    "#plt.plot(epochs,val_mean,'g',label=\"Validation mean\")\n",
    "plt.plot(epochs,loss,'r',label=\"Training loss\")\n",
    "plt.plot(epochs,val_loss,'y',label=\"validation loss\")\n",
    "\n",
    "plt.legend()\n",
    "#plt.figure()\n",
    "plt.savefig(\"../img/id_LSTM.png\")\n",
    "#plt.show()"
   ]
  },
  {
   "cell_type": "code",
   "execution_count": 52,
   "metadata": {},
   "outputs": [],
   "source": [
    "model.save(\"../model/id_SimpleRNN.h5\")\n",
    "model_r=load_model(\"../model/id_SimpleRNN.h5\")"
   ]
  },
  {
   "cell_type": "code",
   "execution_count": 56,
   "metadata": {},
   "outputs": [
    {
     "data": {
      "text/plain": [
       "2.3082809057086706"
      ]
     },
     "execution_count": 56,
     "metadata": {},
     "output_type": "execute_result"
    }
   ],
   "source": [
    "a=[1,2,3,4,5,6,7,8,9,10]\n",
    "b=np.array(a)\n",
    "#b=scaler.fit_transform(b)\n",
    "b=b.reshape(1,10,1)\n",
    "b=np.divide(b,1000)\n",
    "#b=scaler.fit_transform(b)\n",
    "pred=model.predict(b)[0,0]\n",
    "pred*1000"
   ]
  },
  {
   "cell_type": "code",
   "execution_count": 57,
   "metadata": {},
   "outputs": [
    {
     "data": {
      "text/plain": [
       "<module 'predict' from '/home/drdh/lx/X-dll/LSTM/model/model_src/predict.py'>"
      ]
     },
     "execution_count": 57,
     "metadata": {},
     "output_type": "execute_result"
    }
   ],
   "source": [
    "import predict\n",
    "import imp\n",
    "imp.reload(predict)"
   ]
  },
  {
   "cell_type": "code",
   "execution_count": 67,
   "metadata": {},
   "outputs": [
    {
     "data": {
      "text/plain": [
       "([0, 0, 0, 1, 2, 0, 0, 0, 0, 0],\n",
       " 1,\n",
       " 1,\n",
       " [0, 0, 1, 0, 0],\n",
       " 0,\n",
       " 1,\n",
       " 4,\n",
       " [0, 0, 0, 0],\n",
       " [0, 0, 0, 1],\n",
       " [0, 0, 1, 0],\n",
       " 1)"
      ]
     },
     "execution_count": 67,
     "metadata": {},
     "output_type": "execute_result"
    }
   ],
   "source": [
    "predict.network([10,11,12,3],24,1,[1,4],500,1,4,[18,6,2,17],[18,6,2,7],[18,6,2,7],1)"
   ]
  },
  {
   "cell_type": "code",
   "execution_count": null,
   "metadata": {},
   "outputs": [],
   "source": []
  }
 ],
 "metadata": {
  "kernelspec": {
   "display_name": "Python 3",
   "language": "python",
   "name": "python3"
  },
  "language_info": {
   "codemirror_mode": {
    "name": "ipython",
    "version": 3
   },
   "file_extension": ".py",
   "mimetype": "text/x-python",
   "name": "python",
   "nbconvert_exporter": "python",
   "pygments_lexer": "ipython3",
   "version": "3.5.4rc1"
  }
 },
 "nbformat": 4,
 "nbformat_minor": 2
}
