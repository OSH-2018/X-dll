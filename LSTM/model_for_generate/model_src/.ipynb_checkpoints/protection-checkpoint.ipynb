{
 "cells": [
  {
   "cell_type": "code",
   "execution_count": 1,
   "metadata": {},
   "outputs": [
    {
     "name": "stderr",
     "output_type": "stream",
     "text": [
      "/home/drdh/.local/lib/python3.5/site-packages/h5py/__init__.py:36: FutureWarning: Conversion of the second argument of issubdtype from `float` to `np.floating` is deprecated. In future, it will be treated as `np.float64 == np.dtype(float).type`.\n",
      "  from ._conv import register_converters as _register_converters\n",
      "Using TensorFlow backend.\n"
     ]
    }
   ],
   "source": [
    "from keras.layers import Dense,Activation\n",
    "from keras.layers.recurrent import SimpleRNN\n",
    "from keras.models import Sequential\n",
    "from keras.utils import plot_model\n",
    "import numpy as np\n",
    "import matplotlib.pyplot as plt\n",
    "from keras.models import load_model\n",
    "from keras.utils import to_categorical"
   ]
  },
  {
   "cell_type": "code",
   "execution_count": 2,
   "metadata": {},
   "outputs": [],
   "source": [
    "protection=np.load(\"../data/generate_data/protection\")"
   ]
  },
  {
   "cell_type": "code",
   "execution_count": 3,
   "metadata": {},
   "outputs": [],
   "source": [
    "SEQLEN=10\n",
    "STEP=1\n",
    "\n",
    "input_protection=[]\n",
    "label_protection=[]\n",
    "for i in range(0,len(protection)-SEQLEN,STEP):\n",
    "    input_protection.append(protection[i:i+SEQLEN])\n",
    "    label_protection.append(protection[i+SEQLEN])"
   ]
  },
  {
   "cell_type": "code",
   "execution_count": null,
   "metadata": {},
   "outputs": [],
   "source": [
    "PROTECTION_TYPE=3\n",
    "X=np.zeros((len(input_extension),SEQLEN,EXTENSION_TYPE),dtype=np.bool)\n",
    "y=np.zeros((len(input_extension),EXTENSION_TYPE),dtype=np.bool)\n",
    "for i,input_ex in enumerate(input_extension):\n",
    "    for j,ex in enumerate(input_ex):\n",
    "        X[i,j,ex]=1\n",
    "    y[i,label_extension[i]]=1"
   ]
  }
 ],
 "metadata": {
  "kernelspec": {
   "display_name": "Python 3",
   "language": "python",
   "name": "python3"
  },
  "language_info": {
   "codemirror_mode": {
    "name": "ipython",
    "version": 3
   },
   "file_extension": ".py",
   "mimetype": "text/x-python",
   "name": "python",
   "nbconvert_exporter": "python",
   "pygments_lexer": "ipython3",
   "version": "3.5.4rc1"
  }
 },
 "nbformat": 4,
 "nbformat_minor": 2
}
