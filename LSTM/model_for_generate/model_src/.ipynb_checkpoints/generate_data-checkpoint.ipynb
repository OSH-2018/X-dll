{
 "cells": [
  {
   "cell_type": "code",
   "execution_count": 1,
   "metadata": {},
   "outputs": [],
   "source": [
    "import numpy as np\n",
    "import string\n",
    "import random"
   ]
  },
  {
   "cell_type": "code",
   "execution_count": 2,
   "metadata": {},
   "outputs": [
    {
     "name": "stdout",
     "output_type": "stream",
     "text": [
      "data 13 10 29 10 \n",
      "\n",
      "pic 25 18 12 \n",
      "\n",
      "text 29 14 33 29 \n",
      "\n",
      "paper 25 10 25 14 27 \n",
      "\n",
      "salary 28 10 21 10 27 34 \n",
      "\n"
     ]
    }
   ],
   "source": [
    "c=string.printable[0:36]\n",
    "char2index={i:j for i,j in zip(c,range(37))}\n",
    "index2char={j:i for i,j in char2index.items()}\n",
    "names=['data','pic','text','paper','salary']\n",
    "for name in names:\n",
    "    print(name,end=' ')\n",
    "    for c in name:\n",
    "        print(char2index[c],end=' ')\n",
    "    print('\\n')"
   ]
  },
  {
   "cell_type": "code",
   "execution_count": 3,
   "metadata": {},
   "outputs": [],
   "source": [
    "name=[]\n",
    "id=[]\n",
    "extension=[]\n",
    "directory=[]\n",
    "size=[]\n",
    "protection=[]\n",
    "owner=[]\n",
    "created=[]\n",
    "modified=[]\n",
    "access=[]\n",
    "operation=[]\n",
    "\n",
    "data_name=[]\n",
    "for i in range(1,501):\n",
    "    data_name.append([13,10,29,10,i])\n",
    "    name.append([13,10,29,10,i])\n",
    "    id.append(i)\n",
    "    extension.append(0)\n",
    "    #directory.append([1,1,i//100,(i-i//100*100)//10,i-i//10*10])\n",
    "    directory.append([1,1,i//100,(i-i//100*100)//10,i-i//10*10])\n",
    "    size.append(random.randint(450,500))\n",
    "    protection.append(0)\n",
    "    owner.append(0)\n",
    "    created.append([18,6,2,i%24])\n",
    "    modified.append([18,6,2,i%24])\n",
    "    access.append([18,6,2,i%24])\n",
    "    operation.append(0)\n",
    "\n",
    "pic_name=[]\n",
    "for i in range(1,1000,2):\n",
    "    pic_name.append([25,18,12,i])\n",
    "    name.append([25,18,12,i])\n",
    "    id.append(i)\n",
    "    extension.append(1)\n",
    "    #directory.append([2,3,i//100,(i-i//100*100)//10,i-i//10*10])\n",
    "    #directory.append([1,1,i//100,(i-i//100*100)//10,i-i//10*10])\n",
    "    directory.append([1,1,i//100,(i-i//100*100)//10,i-i//10*10])\n",
    "    size.append(random.randint(900,920))\n",
    "    protection.append(1)\n",
    "    owner.append(i%5)\n",
    "    created.append([18,6,i%30+1,0])\n",
    "    modified.append([18,6,i%30+1,0])\n",
    "    access.append([18,6,i%30+1,0])\n",
    "    operation.append(0)\n",
    "    \n",
    "text_name=[]\n",
    "for i in range(1,1000,3):\n",
    "    text_name.append([29,14,33,29,i])\n",
    "    name.append([29,14,33,29,i])\n",
    "    id.append(i)\n",
    "    extension.append(2)\n",
    "    #directory.append([4,i//100,(i-i//100*100)//10,i-i//10*10,0])\n",
    "    #directory.append([1,1,i//100,(i-i//100*100)//10,i-i//10*10])\n",
    "    directory.append([1,1,i//100,(i-i//100*100)//10,i-i//10*10])\n",
    "    size.append(random.randint(100,110))\n",
    "    protection.append(2)\n",
    "    owner.append(i%5)\n",
    "    created.append([18,6,i%30+1,0])\n",
    "    modified.append([18,6,i%30+1,0])\n",
    "    access.append([18,6,i%30+1,0])\n",
    "    operation.append(1)\n",
    "    \n",
    "paper_name=[]\n",
    "for i in range(1,1000,4):\n",
    "    paper_name.append([25,10,25,21,10,27,i])\n",
    "    name.append([25,10,25,21,10,27,i])\n",
    "    id.append(i)\n",
    "    extension.append(3)\n",
    "    #directory.append([9,i//100,(i-i//100*100)//10,i-i//10*10,0])\n",
    "    #directory.append([1,1,i//100,(i-i//100*100)//10,i-i//10*10])\n",
    "    directory.append([1,1,i//100,(i-i//100*100)//10,i-i//10*10])\n",
    "    size.append(random.randint(800,900))\n",
    "    protection.append(2)\n",
    "    owner.append(i%5)\n",
    "    created.append([18,i%12+1,2,0])\n",
    "    modified.append([18,i%12+1,2,0])\n",
    "    access.append([18,i%12+1,2,0])\n",
    "    operation.append(1)\n",
    "    \n",
    "salary_name=[]\n",
    "for i in range(1,1000,5):\n",
    "    salary_name.append([28,10,21,10,27,34,1])\n",
    "    name.append([28,10,21,10,27,34,1])\n",
    "    id.append(i)\n",
    "    extension.append(4)\n",
    "    #directory.append([i//100,(i-i//100*100)//10,i-i//10*10,0,0])\n",
    "    directory.append([1,1,i//100,(i-i//100*100)//10,i-i//10*10])\n",
    "    size.append(random.randint(10,13))\n",
    "    protection.append(1)\n",
    "    owner.append(i%5)\n",
    "    created.append([i%19,6,2,0])\n",
    "    modified.append([i%19,6,2,0])\n",
    "    access.append([i%19,6,2,0])\n",
    "    operation.append(0)"
   ]
  },
  {
   "cell_type": "code",
   "execution_count": 4,
   "metadata": {},
   "outputs": [],
   "source": [
    "name_n=np.array(name)\n",
    "id_n=np.array(id)\n",
    "extension_n=np.array(extension)\n",
    "directory_n=np.array(directory)\n",
    "size_n=np.array(size)\n",
    "protection_n=np.array(protection)\n",
    "owner_n=np.array(owner)\n",
    "created_n=np.array(created)\n",
    "modified_n=np.array(modified)\n",
    "access_n=np.array(access)\n",
    "operation_n=np.array(operation)\n",
    "\n",
    "name_n.dump(\"../data/generate_data/name\")\n",
    "id_n.dump(\"../data/generate_data/id\")\n",
    "extension_n.dump(\"../data/generate_data/extension\")\n",
    "directory_n.dump(\"../data/generate_data/directory\")\n",
    "size_n.dump(\"../data/generate_data/size\")\n",
    "protection_n.dump(\"../data/generate_data/protection\")\n",
    "owner_n.dump(\"../data/generate_data/owner\")\n",
    "created_n.dump(\"../data/generate_data/created\")\n",
    "modified_n.dump(\"../data/generate_data/modified\")\n",
    "access_n.dump(\"../data/generate_data/access\")\n",
    "operation_n.dump(\"../data/generate_data/operation\")"
   ]
  },
  {
   "cell_type": "code",
   "execution_count": 5,
   "metadata": {},
   "outputs": [
    {
     "data": {
      "text/plain": [
       "array([0, 0, 0, ..., 0, 0, 0])"
      ]
     },
     "execution_count": 5,
     "metadata": {},
     "output_type": "execute_result"
    }
   ],
   "source": [
    "name_n\n",
    "id_n\n",
    "extension_n\n",
    "directory_n\n",
    "size_n\n",
    "protection_n\n",
    "owner_n\n",
    "created_n\n",
    "modified_n\n",
    "access_n\n",
    "operation_n"
   ]
  },
  {
   "cell_type": "code",
   "execution_count": null,
   "metadata": {},
   "outputs": [],
   "source": []
  },
  {
   "cell_type": "code",
   "execution_count": 5,
   "metadata": {},
   "outputs": [],
   "source": []
  },
  {
   "cell_type": "code",
   "execution_count": null,
   "metadata": {},
   "outputs": [],
   "source": []
  },
  {
   "cell_type": "code",
   "execution_count": null,
   "metadata": {},
   "outputs": [],
   "source": []
  },
  {
   "cell_type": "code",
   "execution_count": null,
   "metadata": {},
   "outputs": [],
   "source": []
  },
  {
   "cell_type": "code",
   "execution_count": null,
   "metadata": {},
   "outputs": [],
   "source": []
  },
  {
   "cell_type": "code",
   "execution_count": null,
   "metadata": {},
   "outputs": [],
   "source": []
  },
  {
   "cell_type": "code",
   "execution_count": null,
   "metadata": {},
   "outputs": [],
   "source": []
  }
 ],
 "metadata": {
  "kernelspec": {
   "display_name": "Python 3",
   "language": "python",
   "name": "python3"
  },
  "language_info": {
   "codemirror_mode": {
    "name": "ipython",
    "version": 3
   },
   "file_extension": ".py",
   "mimetype": "text/x-python",
   "name": "python",
   "nbconvert_exporter": "python",
   "pygments_lexer": "ipython3",
   "version": "3.5.4rc1"
  }
 },
 "nbformat": 4,
 "nbformat_minor": 2
}
