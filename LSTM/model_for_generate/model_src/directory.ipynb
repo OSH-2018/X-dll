{
 "cells": [
  {
   "cell_type": "code",
   "execution_count": 14,
   "metadata": {},
   "outputs": [],
   "source": [
    "from keras.layers import Dense,Activation\n",
    "from keras.layers.recurrent import SimpleRNN,GRU,LSTM\n",
    "from keras.models import Sequential\n",
    "from keras.utils import plot_model\n",
    "import numpy as np\n",
    "import matplotlib.pyplot as plt\n",
    "from keras.models import load_model\n",
    "from keras.utils import to_categorical\n",
    "import random\n",
    "from sklearn.model_selection import train_test_split"
   ]
  },
  {
   "cell_type": "code",
   "execution_count": null,
   "metadata": {},
   "outputs": [],
   "source": []
  },
  {
   "cell_type": "code",
   "execution_count": null,
   "metadata": {},
   "outputs": [],
   "source": []
  },
  {
   "cell_type": "code",
   "execution_count": 95,
   "metadata": {},
   "outputs": [
    {
     "data": {
      "text/plain": [
       "((1762, 10, 5), (1762, 5))"
      ]
     },
     "execution_count": 95,
     "metadata": {},
     "output_type": "execute_result"
    }
   ],
   "source": [
    "SEQLEN=10\n",
    "STEP=1\n",
    "\n",
    "directory=np.load(\"../data/generate_data/directory\")\n",
    "#directory=to_categorical(directory,num_classes=10)\n",
    "\n",
    "\n",
    "input_directory=[]\n",
    "label_directory=[]\n",
    "for i in range(0,len(directory)-SEQLEN-1,STEP):\n",
    "    input_directory.append(directory[i+1:i+SEQLEN+1]-directory[i:i+SEQLEN])\n",
    "    label_directory.append(directory[i+SEQLEN+1]-directory[i+SEQLEN])\n",
    "\n",
    "    \n",
    "#input_directory=to_categorical(input_directory,num_classes=10)\n",
    "#label_directory=to_categorical(label_directory,num_classes=10)\n",
    "#label_directory=label_directory.reshape(1772,50)\n",
    "#input_directory=input_directory.reshape(1772,10,50)\n",
    "\n",
    "#label_directory\n",
    "#label_directory.shape,input_directory.shape\n",
    "input_directory=np.mod(input_directory,10)\n",
    "label_directory=np.mod(label_directory,10)\n",
    "#input_directory.reshape(1772,10,5,1)\n",
    "#label_directory.reshape(1772,10,5,1)\n",
    "input_directory.shape,label_directory.shape"
   ]
  },
  {
   "cell_type": "code",
   "execution_count": 96,
   "metadata": {},
   "outputs": [
    {
     "data": {
      "text/plain": [
       "array([[0, 0, 0, 0, 1],\n",
       "       [0, 0, 0, 0, 1],\n",
       "       [0, 0, 0, 0, 1],\n",
       "       ...,\n",
       "       [0, 0, 0, 0, 1],\n",
       "       [0, 0, 0, 1, 1],\n",
       "       [0, 0, 0, 0, 1]])"
      ]
     },
     "execution_count": 96,
     "metadata": {},
     "output_type": "execute_result"
    }
   ],
   "source": [
    "Xtrain,Xtest,ytrain,ytest=train_test_split(input_directory,label_directory,test_size=0.2,random_state=42)\n",
    "Xtrain.shape,ytrain.shape\n",
    "ytrain"
   ]
  },
  {
   "cell_type": "code",
   "execution_count": 88,
   "metadata": {},
   "outputs": [],
   "source": [
    "HIDDEN_SIZE=16\n",
    "BATCH_SIZE=32\n",
    "\n",
    "model=Sequential()\n",
    "model.add(LSTM(HIDDEN_SIZE,return_sequences=False,input_shape=(10,5),unroll=True))\n",
    "model.add(Dense(32,activation=\"relu\"))\n",
    "model.add(Dense(5))\n",
    "#model.add(Activation(\"relu\"))\n",
    "\n",
    "model.compile(loss=\"mse\",optimizer=\"rmsprop\",metrics=['acc','mse'])"
   ]
  },
  {
   "cell_type": "code",
   "execution_count": 89,
   "metadata": {},
   "outputs": [
    {
     "name": "stdout",
     "output_type": "stream",
     "text": [
      "_________________________________________________________________\n",
      "Layer (type)                 Output Shape              Param #   \n",
      "=================================================================\n",
      "lstm_6 (LSTM)                (None, 16)                1408      \n",
      "_________________________________________________________________\n",
      "dense_11 (Dense)             (None, 32)                544       \n",
      "_________________________________________________________________\n",
      "dense_12 (Dense)             (None, 5)                 165       \n",
      "=================================================================\n",
      "Total params: 2,117\n",
      "Trainable params: 2,117\n",
      "Non-trainable params: 0\n",
      "_________________________________________________________________\n"
     ]
    }
   ],
   "source": [
    "plot_model(model,to_file=\"../img/directory_SimpleRNN_model.png\",show_shapes=True)\n",
    "model.summary()"
   ]
  },
  {
   "cell_type": "code",
   "execution_count": 90,
   "metadata": {},
   "outputs": [
    {
     "name": "stdout",
     "output_type": "stream",
     "text": [
      "Train on 1409 samples, validate on 353 samples\n",
      "Epoch 1/50\n",
      "1409/1409 [==============================] - 3s 2ms/step - loss: 0.1334 - acc: 0.7211 - mean_squared_error: 0.1334 - val_loss: 0.0317 - val_acc: 0.8924 - val_mean_squared_error: 0.0317\n",
      "Epoch 2/50\n",
      "1409/1409 [==============================] - 0s 249us/step - loss: 0.0207 - acc: 0.9021 - mean_squared_error: 0.0207 - val_loss: 0.0220 - val_acc: 0.8924 - val_mean_squared_error: 0.0220\n",
      "Epoch 3/50\n",
      "1409/1409 [==============================] - 0s 243us/step - loss: 0.0193 - acc: 0.9021 - mean_squared_error: 0.0193 - val_loss: 0.0214 - val_acc: 0.8924 - val_mean_squared_error: 0.0214\n",
      "Epoch 4/50\n",
      "1409/1409 [==============================] - 0s 223us/step - loss: 0.0191 - acc: 0.9021 - mean_squared_error: 0.0191 - val_loss: 0.0211 - val_acc: 0.8924 - val_mean_squared_error: 0.0211\n",
      "Epoch 5/50\n",
      "1409/1409 [==============================] - 0s 233us/step - loss: 0.0186 - acc: 0.9021 - mean_squared_error: 0.0186 - val_loss: 0.0217 - val_acc: 0.8924 - val_mean_squared_error: 0.0217\n",
      "Epoch 6/50\n",
      "1409/1409 [==============================] - 0s 240us/step - loss: 0.0183 - acc: 0.9021 - mean_squared_error: 0.0183 - val_loss: 0.0212 - val_acc: 0.8924 - val_mean_squared_error: 0.0212\n",
      "Epoch 7/50\n",
      "1409/1409 [==============================] - 0s 265us/step - loss: 0.0177 - acc: 0.9021 - mean_squared_error: 0.0177 - val_loss: 0.0226 - val_acc: 0.8924 - val_mean_squared_error: 0.0226\n",
      "Epoch 8/50\n",
      "1409/1409 [==============================] - 0s 239us/step - loss: 0.0166 - acc: 0.9021 - mean_squared_error: 0.0166 - val_loss: 0.0173 - val_acc: 0.8924 - val_mean_squared_error: 0.0173\n",
      "Epoch 9/50\n",
      "1409/1409 [==============================] - 0s 237us/step - loss: 0.0155 - acc: 0.9021 - mean_squared_error: 0.0155 - val_loss: 0.0164 - val_acc: 0.8924 - val_mean_squared_error: 0.0164\n",
      "Epoch 10/50\n",
      "1409/1409 [==============================] - 0s 246us/step - loss: 0.0141 - acc: 0.9021 - mean_squared_error: 0.0141 - val_loss: 0.0200 - val_acc: 0.8924 - val_mean_squared_error: 0.0200\n",
      "Epoch 11/50\n",
      "1409/1409 [==============================] - 0s 229us/step - loss: 0.0122 - acc: 0.9021 - mean_squared_error: 0.0122 - val_loss: 0.0160 - val_acc: 0.8924 - val_mean_squared_error: 0.0160\n",
      "Epoch 12/50\n",
      "1409/1409 [==============================] - 0s 218us/step - loss: 0.0107 - acc: 0.9021 - mean_squared_error: 0.0107 - val_loss: 0.0110 - val_acc: 0.8924 - val_mean_squared_error: 0.0110\n",
      "Epoch 13/50\n",
      "1409/1409 [==============================] - 0s 225us/step - loss: 0.0095 - acc: 0.9021 - mean_squared_error: 0.0095 - val_loss: 0.0101 - val_acc: 0.8924 - val_mean_squared_error: 0.0101\n",
      "Epoch 14/50\n",
      "1409/1409 [==============================] - 0s 204us/step - loss: 0.0088 - acc: 0.9021 - mean_squared_error: 0.0088 - val_loss: 0.0070 - val_acc: 0.8924 - val_mean_squared_error: 0.0070\n",
      "Epoch 15/50\n",
      "1409/1409 [==============================] - 0s 198us/step - loss: 0.0073 - acc: 0.9049 - mean_squared_error: 0.0073 - val_loss: 0.0067 - val_acc: 0.8924 - val_mean_squared_error: 0.0067\n",
      "Epoch 16/50\n",
      "1409/1409 [==============================] - 0s 229us/step - loss: 0.0068 - acc: 0.9092 - mean_squared_error: 0.0068 - val_loss: 0.0148 - val_acc: 0.9887 - val_mean_squared_error: 0.0148\n",
      "Epoch 17/50\n",
      "1409/1409 [==============================] - 0s 222us/step - loss: 0.0053 - acc: 0.9127 - mean_squared_error: 0.0053 - val_loss: 0.0046 - val_acc: 0.8924 - val_mean_squared_error: 0.0046\n",
      "Epoch 18/50\n",
      "1409/1409 [==============================] - 0s 216us/step - loss: 0.0049 - acc: 0.9141 - mean_squared_error: 0.0049 - val_loss: 0.0043 - val_acc: 0.8924 - val_mean_squared_error: 0.0043\n",
      "Epoch 19/50\n",
      "1409/1409 [==============================] - 0s 215us/step - loss: 0.0048 - acc: 0.9276 - mean_squared_error: 0.0048 - val_loss: 0.0125 - val_acc: 0.8924 - val_mean_squared_error: 0.0125\n",
      "Epoch 20/50\n",
      "1409/1409 [==============================] - 0s 215us/step - loss: 0.0041 - acc: 0.9248 - mean_squared_error: 0.0041 - val_loss: 0.0280 - val_acc: 0.9887 - val_mean_squared_error: 0.0280\n",
      "Epoch 21/50\n",
      "1409/1409 [==============================] - 0s 223us/step - loss: 0.0035 - acc: 0.9361 - mean_squared_error: 0.0035 - val_loss: 0.0025 - val_acc: 0.8924 - val_mean_squared_error: 0.0025\n",
      "Epoch 22/50\n",
      "1409/1409 [==============================] - 0s 211us/step - loss: 0.0036 - acc: 0.9312 - mean_squared_error: 0.0036 - val_loss: 0.0041 - val_acc: 0.8924 - val_mean_squared_error: 0.0041\n",
      "Epoch 23/50\n",
      "1409/1409 [==============================] - 0s 220us/step - loss: 0.0034 - acc: 0.9375 - mean_squared_error: 0.0034 - val_loss: 0.0026 - val_acc: 0.8924 - val_mean_squared_error: 0.0026\n",
      "Epoch 24/50\n",
      "1409/1409 [==============================] - 0s 214us/step - loss: 0.0031 - acc: 0.9319 - mean_squared_error: 0.0031 - val_loss: 0.0023 - val_acc: 0.9008 - val_mean_squared_error: 0.0023\n",
      "Epoch 25/50\n",
      "1409/1409 [==============================] - 0s 208us/step - loss: 0.0030 - acc: 0.9297 - mean_squared_error: 0.0030 - val_loss: 0.0201 - val_acc: 0.8924 - val_mean_squared_error: 0.0201\n",
      "Epoch 26/50\n",
      "1409/1409 [==============================] - 0s 203us/step - loss: 0.0030 - acc: 0.9312 - mean_squared_error: 0.0030 - val_loss: 0.0023 - val_acc: 0.9887 - val_mean_squared_error: 0.0023\n",
      "Epoch 27/50\n",
      "1409/1409 [==============================] - 0s 190us/step - loss: 0.0028 - acc: 0.9375 - mean_squared_error: 0.0028 - val_loss: 0.0022 - val_acc: 0.8924 - val_mean_squared_error: 0.0022\n",
      "Epoch 28/50\n",
      "1409/1409 [==============================] - 0s 204us/step - loss: 0.0029 - acc: 0.9354 - mean_squared_error: 0.0029 - val_loss: 0.0022 - val_acc: 0.8924 - val_mean_squared_error: 0.0022\n",
      "Epoch 29/50\n",
      "1409/1409 [==============================] - 0s 205us/step - loss: 0.0025 - acc: 0.9411 - mean_squared_error: 0.0025 - val_loss: 0.0022 - val_acc: 0.8924 - val_mean_squared_error: 0.0022\n",
      "Epoch 30/50\n",
      "1409/1409 [==============================] - 0s 211us/step - loss: 0.0027 - acc: 0.9461 - mean_squared_error: 0.0027 - val_loss: 0.0022 - val_acc: 0.8924 - val_mean_squared_error: 0.0022\n",
      "Epoch 31/50\n",
      "1409/1409 [==============================] - 0s 198us/step - loss: 0.0029 - acc: 0.9411 - mean_squared_error: 0.0029 - val_loss: 0.0071 - val_acc: 0.9887 - val_mean_squared_error: 0.0071\n",
      "Epoch 32/50\n",
      "1409/1409 [==============================] - 0s 192us/step - loss: 0.0024 - acc: 0.9262 - mean_squared_error: 0.0024 - val_loss: 0.0024 - val_acc: 0.8924 - val_mean_squared_error: 0.0024\n",
      "Epoch 33/50\n",
      "1409/1409 [==============================] - 0s 205us/step - loss: 0.0024 - acc: 0.9446 - mean_squared_error: 0.0024 - val_loss: 0.0050 - val_acc: 0.8924 - val_mean_squared_error: 0.0050\n",
      "Epoch 34/50\n",
      "1409/1409 [==============================] - 0s 204us/step - loss: 0.0024 - acc: 0.9319 - mean_squared_error: 0.0024 - val_loss: 0.0023 - val_acc: 0.8924 - val_mean_squared_error: 0.0023\n",
      "Epoch 35/50\n",
      "1409/1409 [==============================] - 0s 199us/step - loss: 0.0026 - acc: 0.9397 - mean_squared_error: 0.0026 - val_loss: 0.0022 - val_acc: 0.8924 - val_mean_squared_error: 0.0022\n",
      "Epoch 36/50\n",
      "1409/1409 [==============================] - 0s 188us/step - loss: 0.0022 - acc: 0.9368 - mean_squared_error: 0.0022 - val_loss: 0.0023 - val_acc: 0.9887 - val_mean_squared_error: 0.0023\n",
      "Epoch 37/50\n",
      "1409/1409 [==============================] - 0s 187us/step - loss: 0.0023 - acc: 0.9411 - mean_squared_error: 0.0023 - val_loss: 0.0022 - val_acc: 0.9887 - val_mean_squared_error: 0.0022\n",
      "Epoch 38/50\n",
      "1409/1409 [==============================] - 0s 191us/step - loss: 0.0023 - acc: 0.9312 - mean_squared_error: 0.0023 - val_loss: 0.0022 - val_acc: 0.8924 - val_mean_squared_error: 0.0022\n",
      "Epoch 39/50\n",
      "1409/1409 [==============================] - 0s 175us/step - loss: 0.0023 - acc: 0.9439 - mean_squared_error: 0.0023 - val_loss: 0.0023 - val_acc: 0.8924 - val_mean_squared_error: 0.0023\n",
      "Epoch 40/50\n",
      "1409/1409 [==============================] - 0s 191us/step - loss: 0.0023 - acc: 0.9368 - mean_squared_error: 0.0023 - val_loss: 0.0023 - val_acc: 0.8924 - val_mean_squared_error: 0.0023\n",
      "Epoch 41/50\n",
      "1409/1409 [==============================] - 0s 202us/step - loss: 0.0021 - acc: 0.9468 - mean_squared_error: 0.0021 - val_loss: 0.0135 - val_acc: 0.8924 - val_mean_squared_error: 0.0135\n"
     ]
    },
    {
     "name": "stdout",
     "output_type": "stream",
     "text": [
      "Epoch 42/50\n",
      "1409/1409 [==============================] - 0s 228us/step - loss: 0.0021 - acc: 0.9418 - mean_squared_error: 0.0021 - val_loss: 0.0021 - val_acc: 0.9008 - val_mean_squared_error: 0.0021\n",
      "Epoch 43/50\n",
      "1409/1409 [==============================] - 0s 247us/step - loss: 0.0024 - acc: 0.9290 - mean_squared_error: 0.0024 - val_loss: 0.0043 - val_acc: 0.9887 - val_mean_squared_error: 0.0043\n",
      "Epoch 44/50\n",
      "1409/1409 [==============================] - 0s 235us/step - loss: 0.0020 - acc: 0.9454 - mean_squared_error: 0.0020 - val_loss: 0.0022 - val_acc: 0.9887 - val_mean_squared_error: 0.0022\n",
      "Epoch 45/50\n",
      "1409/1409 [==============================] - 0s 235us/step - loss: 0.0020 - acc: 0.9489 - mean_squared_error: 0.0020 - val_loss: 0.0023 - val_acc: 0.9887 - val_mean_squared_error: 0.0023\n",
      "Epoch 46/50\n",
      "1409/1409 [==============================] - 0s 234us/step - loss: 0.0022 - acc: 0.9489 - mean_squared_error: 0.0022 - val_loss: 0.0023 - val_acc: 0.8924 - val_mean_squared_error: 0.0023\n",
      "Epoch 47/50\n",
      "1409/1409 [==============================] - 0s 242us/step - loss: 0.0020 - acc: 0.9446 - mean_squared_error: 0.0020 - val_loss: 0.0121 - val_acc: 0.9887 - val_mean_squared_error: 0.0121\n",
      "Epoch 48/50\n",
      "1409/1409 [==============================] - 0s 239us/step - loss: 0.0021 - acc: 0.9510 - mean_squared_error: 0.0021 - val_loss: 0.0087 - val_acc: 0.9887 - val_mean_squared_error: 0.0087\n",
      "Epoch 49/50\n",
      "1409/1409 [==============================] - 0s 224us/step - loss: 0.0021 - acc: 0.9624 - mean_squared_error: 0.0021 - val_loss: 0.0022 - val_acc: 0.9887 - val_mean_squared_error: 0.0022\n",
      "Epoch 50/50\n",
      "1409/1409 [==============================] - 0s 234us/step - loss: 0.0020 - acc: 0.9496 - mean_squared_error: 0.0020 - val_loss: 0.0022 - val_acc: 0.9887 - val_mean_squared_error: 0.0022\n"
     ]
    }
   ],
   "source": [
    "history=model.fit(Xtrain,ytrain,batch_size=BATCH_SIZE,epochs=50,validation_data=(Xtest,ytest))"
   ]
  },
  {
   "cell_type": "code",
   "execution_count": 91,
   "metadata": {},
   "outputs": [
    {
     "data": {
      "image/png": "[encoded data removed]",
      "text/plain": [
       "<Figure size 432x288 with 1 Axes>"
      ]
     },
     "metadata": {},
     "output_type": "display_data"
    }
   ],
   "source": [
    "#acc=history.history['acc']\n",
    "#val_acc=history.history['val_acc']\n",
    "loss=history.history['mean_squared_error']\n",
    "val_loss=history.history['val_mean_squared_error']\n",
    "\n",
    "epochs=range(1,len(loss)+1)\n",
    "\n",
    "#plt.plot(epochs,acc,'b',label=\"Training acc\")\n",
    "#plt.plot(epochs,val_acc,'g',label=\"Validation acc\")\n",
    "plt.plot(epochs,loss,'r',label=\"Training mse\")\n",
    "plt.plot(epochs,val_loss,'y',label=\"validation mse\")\n",
    "\n",
    "plt.legend()\n",
    "#plt.figure()\n",
    "plt.savefig(\"../img/directory_LSTM.png\")\n",
    "#plt.show()"
   ]
  },
  {
   "cell_type": "code",
   "execution_count": 92,
   "metadata": {},
   "outputs": [],
   "source": [
    "model.save(\"../model/directory_LSTM.h5\")\n",
    "model_r=load_model(\"../model/directory_LSTM.h5\")"
   ]
  },
  {
   "cell_type": "code",
   "execution_count": 93,
   "metadata": {},
   "outputs": [],
   "source": [
    "directory_global=[[0]*5]*10\n",
    "directory_model=load_model(\"../model/directory_LSTM.h5\")"
   ]
  },
  {
   "cell_type": "code",
   "execution_count": 121,
   "metadata": {},
   "outputs": [
    {
     "data": {
      "text/plain": [
       "[0.06856522, -0.006919693, 0.08917626, 0.049991444, 0.97529817]"
      ]
     },
     "execution_count": 121,
     "metadata": {},
     "output_type": "execute_result"
    }
   ],
   "source": [
    "def directory_predict(directory):\n",
    "    global directory_global,directory_model\n",
    "    directory_global=directory_global[1:]\n",
    "    directory_global.append(np.array(directory)-np.array(directory_global[8]))\n",
    "    #y=to_categorical(directory_global,num_classes=10)\n",
    "    y=np.array(directory_global)\n",
    "    y=y.reshape(1,10,5)\n",
    "    pred=directory_model.predict(y,verbose=0)[0]\n",
    "    #p=np.argmax(pred)\n",
    "    #return [p//10000,p//1000-p//10000*10,p//100-p//1000*10,p//10-p//100*10,p-p//10*10]\n",
    "    ret=[]\n",
    "    for i in pred:\n",
    "        ret.append(i)\n",
    "    return ret\n",
    "directory_predict([1,1,0,2,0])"
   ]
  },
  {
   "cell_type": "code",
   "execution_count": 36,
   "metadata": {},
   "outputs": [
    {
     "data": {
      "text/plain": [
       "<module 'predict' from '/home/drdh/lx/X-dll/LSTM/model/model_src/predict.py'>"
      ]
     },
     "execution_count": 36,
     "metadata": {},
     "output_type": "execute_result"
    }
   ],
   "source": [
    "import predict\n",
    "import imp\n",
    "imp.reload(predict)"
   ]
  },
  {
   "cell_type": "code",
   "execution_count": 37,
   "metadata": {},
   "outputs": [
    {
     "data": {
      "text/plain": [
       "([0, 0, 0, 1, 2, 0, 0, 0, 0, 0],\n",
       " 0,\n",
       " 0,\n",
       " [0, 0, 0, 0, 0],\n",
       " 1,\n",
       " 0,\n",
       " 0,\n",
       " [0, 0, 0, 0],\n",
       " [0, 0, 0, 1],\n",
       " [0, 0, 1, 0],\n",
       " 0)"
      ]
     },
     "execution_count": 37,
     "metadata": {},
     "output_type": "execute_result"
    }
   ],
   "source": [
    "predict.network([10,11,12,3],36,1,[1,1,0,0,3],34,1,1,[18,6,2,17],[18,6,2,7],[18,6,2,7],1)"
   ]
  },
  {
   "cell_type": "code",
   "execution_count": 73,
   "metadata": {},
   "outputs": [],
   "source": [
    "directory_global=[[0]*5]*10\n",
    "directory_model=load_model(\"../model/directory_LSTM.h5\")\n",
    "def directory_predict(directory):\n",
    "    global directory_global,directory_model\n",
    "    directory_global=directory_global[1:]\n",
    "    directory_global.append(np.array(directory)-np.array(directory_global[8]))\n",
    "    #y=to_categorical(directory_global,num_classes=10)\n",
    "    y=np.array(directory_global)\n",
    "    y=y.reshape(1,10,5)\n",
    "    pred=directory_model.predict(y,verbose=0)[0]\n",
    "    #p=np.argmax(pred)\n",
    "    #return [p//10000,p//1000-p//10000*10,p//100-p//1000*10,p//10-p//100*10,p-p//10*10]\n",
    "    ret=[]\n",
    "    for i in pred:\n",
    "        ret.append((i))\n",
    "    return ret"
   ]
  },
  {
   "cell_type": "code",
   "execution_count": 108,
   "metadata": {},
   "outputs": [
    {
     "data": {
      "text/plain": [
       "[0, 0, 0, 0, 0]"
      ]
     },
     "execution_count": 108,
     "metadata": {},
     "output_type": "execute_result"
    }
   ],
   "source": [
    "def directory_predict(directory):\n",
    "    global directory_global,directory_model\n",
    "    directory_global=directory_global[1:]\n",
    "    directory_global.append(np.array(directory)-np.array(directory_global[8]))\n",
    "    #y=to_categorical(directory_global,num_classes=10)\n",
    "    y=np.array(directory_global)\n",
    "    y=y.reshape(1,10,5)\n",
    "    pred=directory_model.predict(y,verbose=0)[0]\n",
    "    #p=np.argmax(pred)\n",
    "    #return [p//10000,p//1000-p//10000*10,p//100-p//1000*10,p//10-p//100*10,p-p//10*10]\n",
    "    ret=[]\n",
    "    for i in pred:\n",
    "        ret.append(int(i))\n",
    "    return ret\n",
    "directory_predict([1,1,0,2,0])"
   ]
  },
  {
   "cell_type": "code",
   "execution_count": 13,
   "metadata": {},
   "outputs": [
    {
     "data": {
      "text/plain": [
       "dict_keys(['val_loss', 'mean_squared_error', 'acc', 'loss', 'val_acc', 'val_mean_squared_error'])"
      ]
     },
     "execution_count": 13,
     "metadata": {},
     "output_type": "execute_result"
    }
   ],
   "source": [
    "history.history.keys()"
   ]
  },
  {
   "cell_type": "code",
   "execution_count": 80,
   "metadata": {},
   "outputs": [
    {
     "data": {
      "text/plain": [
       "array([1, 1])"
      ]
     },
     "execution_count": 80,
     "metadata": {},
     "output_type": "execute_result"
    }
   ],
   "source": [
    "a=np.array([1,-3])\n",
    "a=np.mod([1,-4],5)\n",
    "a"
   ]
  },
  {
   "cell_type": "code",
   "execution_count": null,
   "metadata": {},
   "outputs": [],
   "source": []
  }
 ],
 "metadata": {
  "kernelspec": {
   "display_name": "Python 3",
   "language": "python",
   "name": "python3"
  },
  "language_info": {
   "codemirror_mode": {
    "name": "ipython",
    "version": 3
   },
   "file_extension": ".py",
   "mimetype": "text/x-python",
   "name": "python",
   "nbconvert_exporter": "python",
   "pygments_lexer": "ipython3",
   "version": "3.5.4rc1"
  }
 },
 "nbformat": 4,
 "nbformat_minor": 2
}
