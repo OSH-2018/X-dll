{
 "cells": [
  {
   "cell_type": "code",
   "execution_count": 1,
   "metadata": {},
   "outputs": [],
   "source": [
    "import numpy as np\n",
    "import matplotlib.pyplot as plt"
   ]
  },
  {
   "cell_type": "code",
   "execution_count": 10,
   "metadata": {},
   "outputs": [],
   "source": [
    "size=np.load(\"../data/generate_data/size\")"
   ]
  },
  {
   "cell_type": "code",
   "execution_count": 3,
   "metadata": {},
   "outputs": [
    {
     "data": {
      "text/plain": [
       "array([452, 451, 473, ...,  10,  13,  11])"
      ]
     },
     "execution_count": 3,
     "metadata": {},
     "output_type": "execute_result"
    }
   ],
   "source": [
    "size"
   ]
  },
  {
   "cell_type": "code",
   "execution_count": 4,
   "metadata": {},
   "outputs": [
    {
     "data": {
      "image/png": "[encoded data removed]",
      "text/plain": [
       "<Figure size 432x288 with 1 Axes>"
      ]
     },
     "metadata": {},
     "output_type": "display_data"
    }
   ],
   "source": [
    "plt.plot(range(len(size)),size)\n",
    "plt.ylabel(\"size\")\n",
    "plt.xlabel(\"time\")\n",
    "plt.savefig(\"../img/size_tendency\")"
   ]
  },
  {
   "cell_type": "code",
   "execution_count": 126,
   "metadata": {},
   "outputs": [],
   "source": [
    "from keras.layers.core import Dense,Activation\n",
    "from keras.layers.recurrent import SimpleRNN,LSTM\n",
    "from keras.models import Sequential\n",
    "from sklearn.preprocessing import MinMaxScaler\n",
    "import numpy as np\n",
    "import math\n",
    "import os\n",
    "from keras.utils import plot_model\n",
    "from keras.models import load_model"
   ]
  },
  {
   "cell_type": "code",
   "execution_count": 44,
   "metadata": {},
   "outputs": [
    {
     "data": {
      "text/plain": [
       "array([[0.48571429],\n",
       "       [0.48461538],\n",
       "       [0.50879121],\n",
       "       ...,\n",
       "       [0.        ],\n",
       "       [0.0032967 ],\n",
       "       [0.0010989 ]])"
      ]
     },
     "execution_count": 44,
     "metadata": {},
     "output_type": "execute_result"
    }
   ],
   "source": [
    "size=size.reshape(-1,1)\n",
    "size"
   ]
  },
  {
   "cell_type": "code",
   "execution_count": 77,
   "metadata": {},
   "outputs": [
    {
     "data": {
      "text/plain": [
       "array([[0.00047326, 0.00049687]])"
      ]
     },
     "execution_count": 77,
     "metadata": {},
     "output_type": "execute_result"
    }
   ],
   "source": [
    "#scaler=MinMaxScaler(feature_range=(0,1),copy=False)\n",
    "#size=scaler.fit_transform(size)\n",
    "size=np.divide(size,1024)\n",
    "size.shape\n",
    "size[1:3].T\n",
    "#size[3]"
   ]
  },
  {
   "cell_type": "code",
   "execution_count": 78,
   "metadata": {},
   "outputs": [],
   "source": [
    "NUM_TIMESTEPS=10\n",
    "HIDDEN_SIZE=32\n",
    "BATCH_SIZE=32\n",
    "\n",
    "X=np.zeros((size.shape[0],NUM_TIMESTEPS))\n",
    "Y=np.zeros((size.shape[0],1))\n",
    "\n",
    "for i in range(len(size)-NUM_TIMESTEPS):\n",
    "    X[i]=size[i:i+NUM_TIMESTEPS].T\n",
    "    Y[i]=size[i+NUM_TIMESTEPS]\n",
    "X=np.expand_dims(X,axis=2)"
   ]
  },
  {
   "cell_type": "code",
   "execution_count": 115,
   "metadata": {},
   "outputs": [
    {
     "data": {
      "text/plain": [
       "(1426, 10, 1)"
      ]
     },
     "execution_count": 115,
     "metadata": {},
     "output_type": "execute_result"
    }
   ],
   "source": [
    "sp=int(0.8*len(size))\n",
    "Xtrain,Xtest,Ytrain,Ytest=X[0:sp],X[sp:],Y[0:sp],Y[sp:]\n",
    "Xtrain.shape"
   ]
  },
  {
   "cell_type": "code",
   "execution_count": 136,
   "metadata": {},
   "outputs": [
    {
     "name": "stdout",
     "output_type": "stream",
     "text": [
      "Train on 1426 samples, validate on 357 samples\n",
      "Epoch 1/5\n",
      "1426/1426 [==============================] - 1s 735us/step - loss: 2.3757e-05 - mean_squared_error: 2.3757e-05 - val_loss: 1.3583e-06 - val_mean_squared_error: 1.3583e-06\n",
      "Epoch 2/5\n",
      "1426/1426 [==============================] - 0s 152us/step - loss: 1.8423e-07 - mean_squared_error: 1.8423e-07 - val_loss: 1.7755e-07 - val_mean_squared_error: 1.7755e-07\n",
      "Epoch 3/5\n",
      "1426/1426 [==============================] - 0s 154us/step - loss: 9.7956e-08 - mean_squared_error: 9.7956e-08 - val_loss: 1.6423e-07 - val_mean_squared_error: 1.6423e-07\n",
      "Epoch 4/5\n",
      "1426/1426 [==============================] - 0s 165us/step - loss: 9.4611e-08 - mean_squared_error: 9.4611e-08 - val_loss: 2.1389e-07 - val_mean_squared_error: 2.1389e-07\n",
      "Epoch 5/5\n",
      "1426/1426 [==============================] - 0s 166us/step - loss: 7.5475e-08 - mean_squared_error: 7.5475e-08 - val_loss: 1.3702e-07 - val_mean_squared_error: 1.3702e-07\n"
     ]
    }
   ],
   "source": [
    "NUM_EPOCHS=5\n",
    "model=Sequential()\n",
    "model.add(SimpleRNN(HIDDEN_SIZE,input_shape=(NUM_TIMESTEPS,1),return_sequences=False))\n",
    "model.add(Dense(1))\n",
    "#model.add(Activation(\"softmax\"))\n",
    "\n",
    "model.compile(loss=\"mean_squared_error\",optimizer=\"adam\",metrics=[\"mean_squared_error\"])\n",
    "\n",
    "history=model.fit(Xtrain,Ytrain,epochs=NUM_EPOCHS,batch_size=BATCH_SIZE,validation_data=(Xtest,Ytest))"
   ]
  },
  {
   "cell_type": "code",
   "execution_count": 137,
   "metadata": {},
   "outputs": [
    {
     "data": {
      "image/png": "[encoded data removed]",
      "text/plain": [
       "<Figure size 432x288 with 1 Axes>"
      ]
     },
     "metadata": {},
     "output_type": "display_data"
    }
   ],
   "source": [
    "mean=history.history['mean_squared_error']\n",
    "val_mean=history.history['val_mean_squared_error']\n",
    "loss=history.history['loss']\n",
    "val_loss=history.history['val_loss']\n",
    "\n",
    "epochs=range(1,len(mean)+1)\n",
    "\n",
    "#plt.plot(epochs,mean,'b',label=\"Training mean\")\n",
    "#plt.plot(epochs,val_mean,'g',label=\"Validation mean\")\n",
    "plt.plot(epochs,loss,'r',label=\"Training loss\")\n",
    "plt.plot(epochs,val_loss,'y',label=\"validation loss\")\n",
    "\n",
    "plt.legend()\n",
    "#plt.figure()\n",
    "plt.savefig(\"../img/size_SimpleRNN.png\")\n",
    "#plt.show()"
   ]
  },
  {
   "cell_type": "code",
   "execution_count": 138,
   "metadata": {},
   "outputs": [],
   "source": [
    "model.save(\"../model/size_SimpleRNN.h5\")\n",
    "model_r=load_model(\"../model/size_SimpleRNN.h5\")"
   ]
  },
  {
   "cell_type": "code",
   "execution_count": 139,
   "metadata": {},
   "outputs": [],
   "source": [
    "a=[500]*10\n",
    "b=np.array(a)\n",
    "#b=scaler.fit_transform(b)\n",
    "b=b.reshape(1,10,1)\n",
    "np.divide(b,1024)\n",
    "#b=scaler.fit_transform(b)\n",
    "pred=model.predict(b)[0]"
   ]
  },
  {
   "cell_type": "code",
   "execution_count": 140,
   "metadata": {},
   "outputs": [
    {
     "data": {
      "text/plain": [
       "1817.5755615234375"
      ]
     },
     "execution_count": 140,
     "metadata": {},
     "output_type": "execute_result"
    }
   ],
   "source": [
    "pred[0]*1024"
   ]
  },
  {
   "cell_type": "code",
   "execution_count": null,
   "metadata": {},
   "outputs": [],
   "source": []
  }
 ],
 "metadata": {
  "kernelspec": {
   "display_name": "Python 3",
   "language": "python",
   "name": "python3"
  },
  "language_info": {
   "codemirror_mode": {
    "name": "ipython",
    "version": 3
   },
   "file_extension": ".py",
   "mimetype": "text/x-python",
   "name": "python",
   "nbconvert_exporter": "python",
   "pygments_lexer": "ipython3",
   "version": "3.5.4rc1"
  }
 },
 "nbformat": 4,
 "nbformat_minor": 2
}
