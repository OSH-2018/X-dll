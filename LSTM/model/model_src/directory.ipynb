{
 "cells": [
  {
   "cell_type": "code",
   "execution_count": 34,
   "metadata": {},
   "outputs": [],
   "source": [
    "from keras.layers import Dense,Activation\n",
    "from keras.layers.recurrent import SimpleRNN\n",
    "from keras.models import Sequential\n",
    "from keras.utils import plot_model\n",
    "import numpy as np\n",
    "import matplotlib.pyplot as plt\n",
    "from keras.models import load_model\n",
    "from keras.utils import to_categorical\n",
    "import random\n",
    "from sklearn.model_selection import train_test_split"
   ]
  },
  {
   "cell_type": "code",
   "execution_count": 18,
   "metadata": {},
   "outputs": [],
   "source": []
  },
  {
   "cell_type": "code",
   "execution_count": 20,
   "metadata": {},
   "outputs": [
    {
     "data": {
      "text/plain": [
       "(1783, 5, 10)"
      ]
     },
     "execution_count": 20,
     "metadata": {},
     "output_type": "execute_result"
    }
   ],
   "source": []
  },
  {
   "cell_type": "code",
   "execution_count": 92,
   "metadata": {},
   "outputs": [
    {
     "data": {
      "text/plain": [
       "((1772, 50), (1772, 10, 50))"
      ]
     },
     "execution_count": 92,
     "metadata": {},
     "output_type": "execute_result"
    }
   ],
   "source": [
    "SEQLEN=10\n",
    "STEP=1\n",
    "\n",
    "directory=np.load(\"../data/generate_data/directory\")\n",
    "#directory=to_categorical(directory,num_classes=10)\n",
    "\n",
    "\n",
    "input_directory=[]\n",
    "label_directory=[]\n",
    "for i in range(0,len(directory)-SEQLEN-1,STEP):\n",
    "    input_directory.append(directory[i+1:i+SEQLEN+1]-directory[i:i+SEQLEN])\n",
    "    label_directory.append(directory[i+SEQLEN+1]-directory[i+SEQLEN])\n",
    "\n",
    "    \n",
    "input_directory=to_categorical(input_directory,num_classes=10)\n",
    "label_directory=to_categorical(label_directory,num_classes=10)\n",
    "label_directory=label_directory.reshape(1772,50)\n",
    "input_directory=input_directory.reshape(1772,10,50)\n",
    "\n",
    "#label_directory\n",
    "label_directory.shape,input_directory.shape"
   ]
  },
  {
   "cell_type": "code",
   "execution_count": 93,
   "metadata": {},
   "outputs": [
    {
     "data": {
      "text/plain": [
       "((1417, 10, 50), (1417, 50))"
      ]
     },
     "execution_count": 93,
     "metadata": {},
     "output_type": "execute_result"
    }
   ],
   "source": [
    "Xtrain,Xtest,ytrain,ytest=train_test_split(input_directory,label_directory,test_size=0.2,random_state=42)\n",
    "Xtrain.shape,ytrain.shape"
   ]
  },
  {
   "cell_type": "code",
   "execution_count": 105,
   "metadata": {},
   "outputs": [],
   "source": [
    "HIDDEN_SIZE=2\n",
    "BATCH_SIZE=32\n",
    "\n",
    "model=Sequential()\n",
    "model.add(SimpleRNN(HIDDEN_SIZE,return_sequences=False,input_shape=(10,50),unroll=True))\n",
    "model.add(Dense(50))\n",
    "model.add(Activation(\"softmax\"))\n",
    "\n",
    "model.compile(loss=\"categorical_crossentropy\",optimizer=\"rmsprop\",metrics=['acc'])"
   ]
  },
  {
   "cell_type": "code",
   "execution_count": 106,
   "metadata": {},
   "outputs": [
    {
     "name": "stdout",
     "output_type": "stream",
     "text": [
      "_________________________________________________________________\n",
      "Layer (type)                 Output Shape              Param #   \n",
      "=================================================================\n",
      "simple_rnn_11 (SimpleRNN)    (None, 2)                 106       \n",
      "_________________________________________________________________\n",
      "dense_9 (Dense)              (None, 50)                150       \n",
      "_________________________________________________________________\n",
      "activation_9 (Activation)    (None, 50)                0         \n",
      "=================================================================\n",
      "Total params: 256\n",
      "Trainable params: 256\n",
      "Non-trainable params: 0\n",
      "_________________________________________________________________\n"
     ]
    }
   ],
   "source": [
    "plot_model(model,to_file=\"../img/directory_SimpleRNN_model.png\",show_shapes=True)\n",
    "model.summary()"
   ]
  },
  {
   "cell_type": "code",
   "execution_count": 107,
   "metadata": {},
   "outputs": [
    {
     "name": "stdout",
     "output_type": "stream",
     "text": [
      "Train on 1417 samples, validate on 355 samples\n",
      "Epoch 1/20\n",
      "1417/1417 [==============================] - 1s 393us/step - loss: 19.1203 - acc: 0.7841 - val_loss: 18.6197 - val_acc: 0.9944\n",
      "Epoch 2/20\n",
      "1417/1417 [==============================] - 0s 98us/step - loss: 18.1959 - acc: 0.9922 - val_loss: 17.7303 - val_acc: 0.9944\n",
      "Epoch 3/20\n",
      "1417/1417 [==============================] - 0s 138us/step - loss: 17.3313 - acc: 0.9922 - val_loss: 16.8973 - val_acc: 0.9944\n",
      "Epoch 4/20\n",
      "1417/1417 [==============================] - 0s 133us/step - loss: 16.5293 - acc: 0.9922 - val_loss: 16.1332 - val_acc: 0.9944\n",
      "Epoch 5/20\n",
      "1417/1417 [==============================] - 0s 149us/step - loss: 15.7970 - acc: 0.9922 - val_loss: 15.4382 - val_acc: 0.9944\n",
      "Epoch 6/20\n",
      "1417/1417 [==============================] - 0s 125us/step - loss: 15.1384 - acc: 0.9922 - val_loss: 14.8176 - val_acc: 0.9944\n",
      "Epoch 7/20\n",
      "1417/1417 [==============================] - 0s 140us/step - loss: 14.5511 - acc: 0.9922 - val_loss: 14.2635 - val_acc: 0.9944\n",
      "Epoch 8/20\n",
      "1417/1417 [==============================] - 0s 133us/step - loss: 14.0317 - acc: 0.9922 - val_loss: 13.7778 - val_acc: 0.9944\n",
      "Epoch 9/20\n",
      "1417/1417 [==============================] - 0s 141us/step - loss: 13.5780 - acc: 0.9922 - val_loss: 13.3566 - val_acc: 0.9944\n",
      "Epoch 10/20\n",
      "1417/1417 [==============================] - 0s 124us/step - loss: 13.1888 - acc: 0.9922 - val_loss: 12.9987 - val_acc: 0.9944\n",
      "Epoch 11/20\n",
      "1417/1417 [==============================] - 0s 112us/step - loss: 12.8553 - acc: 0.9922 - val_loss: 12.6929 - val_acc: 0.9944\n",
      "Epoch 12/20\n",
      "1417/1417 [==============================] - 0s 133us/step - loss: 12.5762 - acc: 0.9922 - val_loss: 12.4395 - val_acc: 0.9944\n",
      "Epoch 13/20\n",
      "1417/1417 [==============================] - 0s 137us/step - loss: 12.3438 - acc: 0.9922 - val_loss: 12.2252 - val_acc: 0.9944\n",
      "Epoch 14/20\n",
      "1417/1417 [==============================] - 0s 124us/step - loss: 12.1466 - acc: 0.9922 - val_loss: 12.0454 - val_acc: 0.9944\n",
      "Epoch 15/20\n",
      "1417/1417 [==============================] - 0s 124us/step - loss: 11.9806 - acc: 0.9922 - val_loss: 11.8946 - val_acc: 0.9944\n",
      "Epoch 16/20\n",
      "1417/1417 [==============================] - 0s 132us/step - loss: 11.8448 - acc: 0.9922 - val_loss: 11.7727 - val_acc: 0.9944\n",
      "Epoch 17/20\n",
      "1417/1417 [==============================] - 0s 136us/step - loss: 11.7346 - acc: 0.9922 - val_loss: 11.6752 - val_acc: 0.9944\n",
      "Epoch 18/20\n",
      "1417/1417 [==============================] - 0s 136us/step - loss: 11.6473 - acc: 0.9922 - val_loss: 11.5976 - val_acc: 0.9944\n",
      "Epoch 19/20\n",
      "1417/1417 [==============================] - 0s 128us/step - loss: 11.5786 - acc: 0.9922 - val_loss: 11.5363 - val_acc: 0.9944\n",
      "Epoch 20/20\n",
      "1417/1417 [==============================] - 0s 128us/step - loss: 11.5261 - acc: 0.9922 - val_loss: 11.4893 - val_acc: 0.9944\n"
     ]
    }
   ],
   "source": [
    "history=model.fit(Xtrain,ytrain,batch_size=BATCH_SIZE,epochs=20,validation_data=(Xtest,ytest))"
   ]
  },
  {
   "cell_type": "code",
   "execution_count": 108,
   "metadata": {},
   "outputs": [
    {
     "data": {
      "image/png": "[encoded data removed]",
      "text/plain": [
       "<Figure size 432x288 with 1 Axes>"
      ]
     },
     "metadata": {},
     "output_type": "display_data"
    }
   ],
   "source": [
    "acc=history.history['acc']\n",
    "val_acc=history.history['val_acc']\n",
    "loss=history.history['loss']\n",
    "val_loss=history.history['val_loss']\n",
    "\n",
    "epochs=range(1,len(acc)+1)\n",
    "\n",
    "plt.plot(epochs,acc,'b',label=\"Training acc\")\n",
    "plt.plot(epochs,val_acc,'g',label=\"Validation acc\")\n",
    "#plt.plot(epochs,loss,'r',label=\"Training loss\")\n",
    "#plt.plot(epochs,val_loss,'y',label=\"validation loss\")\n",
    "\n",
    "plt.legend()\n",
    "#plt.figure()\n",
    "plt.savefig(\"../img/directory_SimpleRNN.png\")\n",
    "#plt.show()"
   ]
  },
  {
   "cell_type": "code",
   "execution_count": 109,
   "metadata": {},
   "outputs": [],
   "source": [
    "model.save(\"../model/directory_SimpleRNN.h5\")\n",
    "model_r=load_model(\"../model/directory_SimpleRNN.h5\")"
   ]
  },
  {
   "cell_type": "code",
   "execution_count": 114,
   "metadata": {},
   "outputs": [],
   "source": [
    "directory_global=[[0]*5]*11"
   ]
  },
  {
   "cell_type": "code",
   "execution_count": 113,
   "metadata": {},
   "outputs": [
    {
     "data": {
      "text/plain": [
       "[[0, 0, 0, 0, 0],\n",
       " [0, 0, 0, 0, 0],\n",
       " [0, 0, 0, 0, 0],\n",
       " [0, 0, 0, 0, 0],\n",
       " [0, 0, 0, 0, 0],\n",
       " [0, 0, 0, 0, 0],\n",
       " [0, 0, 0, 0, 0],\n",
       " [0, 0, 0, 0, 0],\n",
       " [0, 0, 0, 0, 0],\n",
       " [0, 0, 0, 0, 0]]"
      ]
     },
     "execution_count": 113,
     "metadata": {},
     "output_type": "execute_result"
    }
   ],
   "source": [
    "directory_global=directory_global[1:]\n",
    "directory_global.append([1,1,0,0,1])\n"
   ]
  },
  {
   "cell_type": "code",
   "execution_count": 129,
   "metadata": {},
   "outputs": [
    {
     "data": {
      "text/plain": [
       "<module 'predict' from '/home/drdh/lx/X-dll/LSTM/model/model_src/predict.py'>"
      ]
     },
     "execution_count": 129,
     "metadata": {},
     "output_type": "execute_result"
    }
   ],
   "source": [
    "import predict\n",
    "import imp\n",
    "imp.reload(predict)"
   ]
  },
  {
   "cell_type": "code",
   "execution_count": 132,
   "metadata": {},
   "outputs": [
    {
     "data": {
      "text/plain": [
       "([0, 0, 0, 1, 2, 0, 0, 0, 0, 0],\n",
       " 1,\n",
       " 0,\n",
       " [0, 0, 0, 0, 0],\n",
       " -4,\n",
       " 1,\n",
       " 0,\n",
       " [0, 0, 0, 0],\n",
       " [0, 0, 0, 1],\n",
       " [0, 0, 1, 0],\n",
       " 1)"
      ]
     },
     "execution_count": 132,
     "metadata": {},
     "output_type": "execute_result"
    }
   ],
   "source": [
    "predict.network([10,11,12,3],36,1,[1,1,0,0,3],34,1,1,[18,6,2,17],[18,6,2,7],[18,6,2,7],1)"
   ]
  },
  {
   "cell_type": "code",
   "execution_count": null,
   "metadata": {},
   "outputs": [],
   "source": []
  }
 ],
 "metadata": {
  "kernelspec": {
   "display_name": "Python 3",
   "language": "python",
   "name": "python3"
  },
  "language_info": {
   "codemirror_mode": {
    "name": "ipython",
    "version": 3
   },
   "file_extension": ".py",
   "mimetype": "text/x-python",
   "name": "python",
   "nbconvert_exporter": "python",
   "pygments_lexer": "ipython3",
   "version": "3.5.4rc1"
  }
 },
 "nbformat": 4,
 "nbformat_minor": 2
}
