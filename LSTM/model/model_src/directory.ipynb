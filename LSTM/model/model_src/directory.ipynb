{
 "cells": [
  {
   "cell_type": "code",
   "execution_count": 1,
   "metadata": {},
   "outputs": [
    {
     "name": "stderr",
     "output_type": "stream",
     "text": [
      "/home/drdh/.local/lib/python3.5/site-packages/h5py/__init__.py:36: FutureWarning: Conversion of the second argument of issubdtype from `float` to `np.floating` is deprecated. In future, it will be treated as `np.float64 == np.dtype(float).type`.\n",
      "  from ._conv import register_converters as _register_converters\n",
      "Using TensorFlow backend.\n"
     ]
    }
   ],
   "source": [
    "from keras.layers import Dense,Activation\n",
    "from keras.layers.recurrent import SimpleRNN,GRU,LSTM\n",
    "from keras.models import Sequential\n",
    "from keras.utils import plot_model\n",
    "import numpy as np\n",
    "import matplotlib.pyplot as plt\n",
    "from keras.models import load_model\n",
    "from keras.utils import to_categorical\n",
    "import random\n",
    "from sklearn.model_selection import train_test_split"
   ]
  },
  {
   "cell_type": "code",
   "execution_count": null,
   "metadata": {},
   "outputs": [],
   "source": []
  },
  {
   "cell_type": "code",
   "execution_count": null,
   "metadata": {},
   "outputs": [],
   "source": []
  },
  {
   "cell_type": "code",
   "execution_count": 22,
   "metadata": {},
   "outputs": [
    {
     "data": {
      "text/plain": [
       "((1772, 10, 5), (1772, 5))"
      ]
     },
     "execution_count": 22,
     "metadata": {},
     "output_type": "execute_result"
    }
   ],
   "source": [
    "SEQLEN=10\n",
    "STEP=1\n",
    "\n",
    "directory=np.load(\"../data/generate_data/directory\")\n",
    "#directory=to_categorical(directory,num_classes=10)\n",
    "\n",
    "\n",
    "input_directory=[]\n",
    "label_directory=[]\n",
    "for i in range(0,len(directory)-SEQLEN-1,STEP):\n",
    "    input_directory.append(directory[i+1:i+SEQLEN+1]-directory[i:i+SEQLEN])\n",
    "    label_directory.append(directory[i+SEQLEN+1]-directory[i+SEQLEN])\n",
    "\n",
    "    \n",
    "#input_directory=to_categorical(input_directory,num_classes=10)\n",
    "#label_directory=to_categorical(label_directory,num_classes=10)\n",
    "#label_directory=label_directory.reshape(1772,50)\n",
    "#input_directory=input_directory.reshape(1772,10,50)\n",
    "\n",
    "#label_directory\n",
    "#label_directory.shape,input_directory.shape\n",
    "input_directory=np.array(input_directory)\n",
    "label_directory=np.array(label_directory)\n",
    "#input_directory.reshape(1772,10,5,1)\n",
    "#label_directory.reshape(1772,10,5,1)\n",
    "input_directory.shape,label_directory.shape"
   ]
  },
  {
   "cell_type": "code",
   "execution_count": 29,
   "metadata": {},
   "outputs": [
    {
     "data": {
      "text/plain": [
       "array([0, 0, 0, 3, 0])"
      ]
     },
     "execution_count": 29,
     "metadata": {},
     "output_type": "execute_result"
    }
   ],
   "source": [
    "Xtrain,Xtest,ytrain,ytest=train_test_split(input_directory,label_directory,test_size=0.2,random_state=42)\n",
    "Xtrain.shape,ytrain.shape\n",
    "ytrain[4]"
   ]
  },
  {
   "cell_type": "code",
   "execution_count": 179,
   "metadata": {},
   "outputs": [],
   "source": [
    "HIDDEN_SIZE=16\n",
    "BATCH_SIZE=32\n",
    "\n",
    "model=Sequential()\n",
    "model.add(LSTM(HIDDEN_SIZE,return_sequences=False,input_shape=(10,5),unroll=True))\n",
    "model.add(Dense(32,activation=\"relu\"))\n",
    "model.add(Dense(5))\n",
    "#model.add(Activation(\"relu\"))\n",
    "\n",
    "model.compile(loss=\"mse\",optimizer=\"rmsprop\",metrics=['acc','mse'])"
   ]
  },
  {
   "cell_type": "code",
   "execution_count": 180,
   "metadata": {},
   "outputs": [
    {
     "name": "stdout",
     "output_type": "stream",
     "text": [
      "_________________________________________________________________\n",
      "Layer (type)                 Output Shape              Param #   \n",
      "=================================================================\n",
      "lstm_19 (LSTM)               (None, 16)                1408      \n",
      "_________________________________________________________________\n",
      "dense_22 (Dense)             (None, 32)                544       \n",
      "_________________________________________________________________\n",
      "dense_23 (Dense)             (None, 5)                 165       \n",
      "=================================================================\n",
      "Total params: 2,117\n",
      "Trainable params: 2,117\n",
      "Non-trainable params: 0\n",
      "_________________________________________________________________\n"
     ]
    }
   ],
   "source": [
    "plot_model(model,to_file=\"../img/directory_SimpleRNN_model.png\",show_shapes=True)\n",
    "model.summary()"
   ]
  },
  {
   "cell_type": "code",
   "execution_count": 181,
   "metadata": {},
   "outputs": [
    {
     "name": "stdout",
     "output_type": "stream",
     "text": [
      "Train on 1417 samples, validate on 355 samples\n",
      "Epoch 1/50\n",
      "1417/1417 [==============================] - 6s 4ms/step - loss: 3.8204 - acc: 0.2343 - mean_squared_error: 3.8204 - val_loss: 3.6341 - val_acc: 0.2648 - val_mean_squared_error: 3.6341\n",
      "Epoch 2/50\n",
      "1417/1417 [==============================] - 0s 254us/step - loss: 3.5777 - acc: 0.3077 - mean_squared_error: 3.5777 - val_loss: 3.3324 - val_acc: 0.3606 - val_mean_squared_error: 3.3324\n",
      "Epoch 3/50\n",
      "1417/1417 [==============================] - 0s 269us/step - loss: 3.2470 - acc: 0.3846 - mean_squared_error: 3.2470 - val_loss: 2.9067 - val_acc: 0.4986 - val_mean_squared_error: 2.9067\n",
      "Epoch 4/50\n",
      "1417/1417 [==============================] - 0s 262us/step - loss: 2.8693 - acc: 0.4538 - mean_squared_error: 2.8693 - val_loss: 2.4954 - val_acc: 0.5577 - val_mean_squared_error: 2.4954\n",
      "Epoch 5/50\n",
      "1417/1417 [==============================] - 0s 247us/step - loss: 2.5428 - acc: 0.4933 - mean_squared_error: 2.5428 - val_loss: 2.1937 - val_acc: 0.5831 - val_mean_squared_error: 2.1937\n",
      "Epoch 6/50\n",
      "1417/1417 [==============================] - 0s 240us/step - loss: 2.2752 - acc: 0.5328 - mean_squared_error: 2.2752 - val_loss: 1.9148 - val_acc: 0.6085 - val_mean_squared_error: 1.9148\n",
      "Epoch 7/50\n",
      "1417/1417 [==============================] - 0s 250us/step - loss: 2.0463 - acc: 0.6055 - mean_squared_error: 2.0463 - val_loss: 1.7015 - val_acc: 0.7014 - val_mean_squared_error: 1.7015\n",
      "Epoch 8/50\n",
      "1417/1417 [==============================] - 0s 253us/step - loss: 1.8073 - acc: 0.6782 - mean_squared_error: 1.8073 - val_loss: 1.5033 - val_acc: 0.7465 - val_mean_squared_error: 1.5033\n",
      "Epoch 9/50\n",
      "1417/1417 [==============================] - 0s 257us/step - loss: 1.5669 - acc: 0.7234 - mean_squared_error: 1.5669 - val_loss: 1.2117 - val_acc: 0.7352 - val_mean_squared_error: 1.2117\n",
      "Epoch 10/50\n",
      "1417/1417 [==============================] - 0s 250us/step - loss: 1.3452 - acc: 0.7530 - mean_squared_error: 1.3452 - val_loss: 1.0887 - val_acc: 0.8169 - val_mean_squared_error: 1.0887\n",
      "Epoch 11/50\n",
      "1417/1417 [==============================] - 0s 234us/step - loss: 1.1810 - acc: 0.8031 - mean_squared_error: 1.1810 - val_loss: 1.0397 - val_acc: 0.7465 - val_mean_squared_error: 1.0397\n",
      "Epoch 12/50\n",
      "1417/1417 [==============================] - 0s 245us/step - loss: 1.0519 - acc: 0.8186 - mean_squared_error: 1.0519 - val_loss: 0.8921 - val_acc: 0.7606 - val_mean_squared_error: 0.8921\n",
      "Epoch 13/50\n",
      "1417/1417 [==============================] - 0s 232us/step - loss: 0.9416 - acc: 0.8596 - mean_squared_error: 0.9416 - val_loss: 0.7695 - val_acc: 0.8028 - val_mean_squared_error: 0.7695\n",
      "Epoch 14/50\n",
      "1417/1417 [==============================] - 0s 213us/step - loss: 0.8419 - acc: 0.8469 - mean_squared_error: 0.8419 - val_loss: 0.7308 - val_acc: 0.8507 - val_mean_squared_error: 0.7308\n",
      "Epoch 15/50\n",
      "1417/1417 [==============================] - 0s 236us/step - loss: 0.7767 - acc: 0.8821 - mean_squared_error: 0.7767 - val_loss: 0.6500 - val_acc: 0.8761 - val_mean_squared_error: 0.6500\n",
      "Epoch 16/50\n",
      "1417/1417 [==============================] - 0s 244us/step - loss: 0.7009 - acc: 0.8927 - mean_squared_error: 0.7009 - val_loss: 0.5919 - val_acc: 0.8648 - val_mean_squared_error: 0.5919\n",
      "Epoch 17/50\n",
      "1417/1417 [==============================] - 0s 234us/step - loss: 0.6658 - acc: 0.8744 - mean_squared_error: 0.6658 - val_loss: 0.6140 - val_acc: 0.8535 - val_mean_squared_error: 0.6140\n",
      "Epoch 18/50\n",
      "1417/1417 [==============================] - 0s 222us/step - loss: 0.6367 - acc: 0.8864 - mean_squared_error: 0.6367 - val_loss: 0.6378 - val_acc: 0.7887 - val_mean_squared_error: 0.6378\n",
      "Epoch 19/50\n",
      "1417/1417 [==============================] - 0s 227us/step - loss: 0.6236 - acc: 0.8560 - mean_squared_error: 0.6236 - val_loss: 0.5593 - val_acc: 0.8141 - val_mean_squared_error: 0.5593\n",
      "Epoch 20/50\n",
      "1417/1417 [==============================] - 0s 215us/step - loss: 0.6078 - acc: 0.8673 - mean_squared_error: 0.6078 - val_loss: 0.6275 - val_acc: 0.7972 - val_mean_squared_error: 0.6275\n",
      "Epoch 21/50\n",
      "1417/1417 [==============================] - 0s 219us/step - loss: 0.5994 - acc: 0.8454 - mean_squared_error: 0.5994 - val_loss: 0.5501 - val_acc: 0.8676 - val_mean_squared_error: 0.5501\n",
      "Epoch 22/50\n",
      "1417/1417 [==============================] - 0s 232us/step - loss: 0.5856 - acc: 0.8617 - mean_squared_error: 0.5856 - val_loss: 0.5453 - val_acc: 0.8761 - val_mean_squared_error: 0.5453\n",
      "Epoch 23/50\n",
      "1417/1417 [==============================] - 0s 217us/step - loss: 0.5792 - acc: 0.8786 - mean_squared_error: 0.5792 - val_loss: 0.5354 - val_acc: 0.8592 - val_mean_squared_error: 0.5354\n",
      "Epoch 24/50\n",
      "1417/1417 [==============================] - 0s 210us/step - loss: 0.5698 - acc: 0.8758 - mean_squared_error: 0.5698 - val_loss: 0.5422 - val_acc: 0.9324 - val_mean_squared_error: 0.5422\n",
      "Epoch 25/50\n",
      "1417/1417 [==============================] - 0s 218us/step - loss: 0.5720 - acc: 0.8906 - mean_squared_error: 0.5720 - val_loss: 0.5291 - val_acc: 0.8817 - val_mean_squared_error: 0.5291\n",
      "Epoch 26/50\n",
      "1417/1417 [==============================] - 0s 231us/step - loss: 0.5721 - acc: 0.8800 - mean_squared_error: 0.5721 - val_loss: 0.5618 - val_acc: 0.8817 - val_mean_squared_error: 0.5618\n",
      "Epoch 27/50\n",
      "1417/1417 [==============================] - 0s 223us/step - loss: 0.5582 - acc: 0.8666 - mean_squared_error: 0.5582 - val_loss: 0.5381 - val_acc: 0.8986 - val_mean_squared_error: 0.5381\n",
      "Epoch 28/50\n",
      "1417/1417 [==============================] - 0s 212us/step - loss: 0.5557 - acc: 0.8786 - mean_squared_error: 0.5557 - val_loss: 0.5410 - val_acc: 0.8958 - val_mean_squared_error: 0.5410\n",
      "Epoch 29/50\n",
      "1417/1417 [==============================] - 0s 218us/step - loss: 0.5518 - acc: 0.9153 - mean_squared_error: 0.5518 - val_loss: 0.5194 - val_acc: 0.8704 - val_mean_squared_error: 0.5194\n",
      "Epoch 30/50\n",
      "1417/1417 [==============================] - 0s 216us/step - loss: 0.5518 - acc: 0.8673 - mean_squared_error: 0.5518 - val_loss: 0.5306 - val_acc: 0.8338 - val_mean_squared_error: 0.5306\n",
      "Epoch 31/50\n",
      "1417/1417 [==============================] - 0s 225us/step - loss: 0.5479 - acc: 0.8786 - mean_squared_error: 0.5479 - val_loss: 0.5201 - val_acc: 0.8676 - val_mean_squared_error: 0.5201\n",
      "Epoch 32/50\n",
      "1417/1417 [==============================] - 0s 215us/step - loss: 0.5460 - acc: 0.8829 - mean_squared_error: 0.5460 - val_loss: 0.5439 - val_acc: 0.8394 - val_mean_squared_error: 0.5439\n",
      "Epoch 33/50\n",
      "1417/1417 [==============================] - 0s 217us/step - loss: 0.5412 - acc: 0.8539 - mean_squared_error: 0.5412 - val_loss: 0.5284 - val_acc: 0.8817 - val_mean_squared_error: 0.5284\n",
      "Epoch 34/50\n",
      "1417/1417 [==============================] - 0s 218us/step - loss: 0.5410 - acc: 0.8843 - mean_squared_error: 0.5410 - val_loss: 0.5340 - val_acc: 0.8789 - val_mean_squared_error: 0.5340\n",
      "Epoch 35/50\n",
      "1417/1417 [==============================] - 0s 202us/step - loss: 0.5393 - acc: 0.8821 - mean_squared_error: 0.5393 - val_loss: 0.5272 - val_acc: 0.8732 - val_mean_squared_error: 0.5272\n",
      "Epoch 36/50\n",
      "1417/1417 [==============================] - 0s 207us/step - loss: 0.5390 - acc: 0.8687 - mean_squared_error: 0.5390 - val_loss: 0.5199 - val_acc: 0.8873 - val_mean_squared_error: 0.5199\n",
      "Epoch 37/50\n",
      "1417/1417 [==============================] - 0s 216us/step - loss: 0.5360 - acc: 0.8645 - mean_squared_error: 0.5360 - val_loss: 0.5177 - val_acc: 0.8901 - val_mean_squared_error: 0.5177\n",
      "Epoch 38/50\n",
      "1417/1417 [==============================] - 0s 211us/step - loss: 0.5309 - acc: 0.8652 - mean_squared_error: 0.5309 - val_loss: 0.5312 - val_acc: 0.9521 - val_mean_squared_error: 0.5312\n",
      "Epoch 39/50\n",
      "1417/1417 [==============================] - 0s 187us/step - loss: 0.5328 - acc: 0.9139 - mean_squared_error: 0.5328 - val_loss: 0.5377 - val_acc: 0.8366 - val_mean_squared_error: 0.5377\n",
      "Epoch 40/50\n",
      "1417/1417 [==============================] - 0s 204us/step - loss: 0.5371 - acc: 0.8765 - mean_squared_error: 0.5371 - val_loss: 0.5255 - val_acc: 0.8535 - val_mean_squared_error: 0.5255\n",
      "Epoch 41/50\n",
      "1417/1417 [==============================] - 0s 216us/step - loss: 0.5299 - acc: 0.8582 - mean_squared_error: 0.5299 - val_loss: 0.5239 - val_acc: 0.8817 - val_mean_squared_error: 0.5239\n"
     ]
    },
    {
     "name": "stdout",
     "output_type": "stream",
     "text": [
      "Epoch 42/50\n",
      "1417/1417 [==============================] - 0s 254us/step - loss: 0.5314 - acc: 0.8596 - mean_squared_error: 0.5314 - val_loss: 0.5209 - val_acc: 0.8958 - val_mean_squared_error: 0.5209\n",
      "Epoch 43/50\n",
      "1417/1417 [==============================] - 0s 252us/step - loss: 0.5320 - acc: 0.8800 - mean_squared_error: 0.5320 - val_loss: 0.5277 - val_acc: 0.9324 - val_mean_squared_error: 0.5277\n",
      "Epoch 44/50\n",
      "1417/1417 [==============================] - 0s 252us/step - loss: 0.5267 - acc: 0.8709 - mean_squared_error: 0.5267 - val_loss: 0.5292 - val_acc: 0.8817 - val_mean_squared_error: 0.5292\n",
      "Epoch 45/50\n",
      "1417/1417 [==============================] - 0s 255us/step - loss: 0.5285 - acc: 0.8744 - mean_squared_error: 0.5285 - val_loss: 0.5337 - val_acc: 0.8394 - val_mean_squared_error: 0.5337\n",
      "Epoch 46/50\n",
      "1417/1417 [==============================] - 0s 242us/step - loss: 0.5267 - acc: 0.8737 - mean_squared_error: 0.5267 - val_loss: 0.5281 - val_acc: 0.8732 - val_mean_squared_error: 0.5281\n",
      "Epoch 47/50\n",
      "1417/1417 [==============================] - 0s 259us/step - loss: 0.5265 - acc: 0.8941 - mean_squared_error: 0.5265 - val_loss: 0.5462 - val_acc: 0.8169 - val_mean_squared_error: 0.5462\n",
      "Epoch 48/50\n",
      "1417/1417 [==============================] - 0s 247us/step - loss: 0.5197 - acc: 0.8694 - mean_squared_error: 0.5197 - val_loss: 0.5789 - val_acc: 0.8704 - val_mean_squared_error: 0.5789\n",
      "Epoch 49/50\n",
      "1417/1417 [==============================] - 0s 254us/step - loss: 0.5229 - acc: 0.8694 - mean_squared_error: 0.5229 - val_loss: 0.5308 - val_acc: 0.8732 - val_mean_squared_error: 0.5308\n",
      "Epoch 50/50\n",
      "1417/1417 [==============================] - 0s 248us/step - loss: 0.5230 - acc: 0.8638 - mean_squared_error: 0.5230 - val_loss: 0.5257 - val_acc: 0.8789 - val_mean_squared_error: 0.5257\n"
     ]
    }
   ],
   "source": [
    "history=model.fit(Xtrain,ytrain,batch_size=BATCH_SIZE,epochs=50,validation_data=(Xtest,ytest))"
   ]
  },
  {
   "cell_type": "code",
   "execution_count": 183,
   "metadata": {},
   "outputs": [
    {
     "data": {
      "image/png": "[encoded data removed]",
      "text/plain": [
       "<Figure size 432x288 with 1 Axes>"
      ]
     },
     "metadata": {},
     "output_type": "display_data"
    }
   ],
   "source": [
    "#acc=history.history['acc']\n",
    "#val_acc=history.history['val_acc']\n",
    "loss=history.history['mean_squared_error']\n",
    "val_loss=history.history['val_mean_squared_error']\n",
    "\n",
    "epochs=range(1,len(loss)+1)\n",
    "\n",
    "#plt.plot(epochs,acc,'b',label=\"Training acc\")\n",
    "#plt.plot(epochs,val_acc,'g',label=\"Validation acc\")\n",
    "plt.plot(epochs,loss,'r',label=\"Training mse\")\n",
    "plt.plot(epochs,val_loss,'y',label=\"validation mse\")\n",
    "\n",
    "plt.legend()\n",
    "#plt.figure()\n",
    "plt.savefig(\"../img/directory_LSTM.png\")\n",
    "#plt.show()"
   ]
  },
  {
   "cell_type": "code",
   "execution_count": 158,
   "metadata": {},
   "outputs": [],
   "source": [
    "model.save(\"../model/directory_LSTM.h5\")\n",
    "model_r=load_model(\"../model/directory_LSTM.h5\")"
   ]
  },
  {
   "cell_type": "code",
   "execution_count": 159,
   "metadata": {},
   "outputs": [],
   "source": [
    "directory_global=[[0]*5]*10\n",
    "directory_model=load_model(\"../model/directory_LSTM.h5\")"
   ]
  },
  {
   "cell_type": "code",
   "execution_count": 191,
   "metadata": {},
   "outputs": [
    {
     "data": {
      "text/plain": [
       "[0, 0, 0, 3, -4]"
      ]
     },
     "execution_count": 191,
     "metadata": {},
     "output_type": "execute_result"
    }
   ],
   "source": [
    "def directory_predict(directory):\n",
    "    global directory_global,directory_model\n",
    "    directory_global=directory_global[1:]\n",
    "    directory_global.append(np.array(directory)-np.array(directory_global[8]))\n",
    "    #y=to_categorical(directory_global,num_classes=10)\n",
    "    y=np.array(directory_global)\n",
    "    y=y.reshape(1,10,5)\n",
    "    pred=directory_model.predict(y,verbose=0)[0]\n",
    "    #p=np.argmax(pred)\n",
    "    #return [p//10000,p//1000-p//10000*10,p//100-p//1000*10,p//10-p//100*10,p-p//10*10]\n",
    "    ret=[]\n",
    "    for i in pred:\n",
    "        ret.append(int(i))\n",
    "    return ret\n",
    "directory_predict([1,1,0,1,7])"
   ]
  },
  {
   "cell_type": "code",
   "execution_count": 144,
   "metadata": {},
   "outputs": [
    {
     "data": {
      "text/plain": [
       "<module 'predict' from '/home/drdh/lx/X-dll/LSTM/model/model_src/predict.py'>"
      ]
     },
     "execution_count": 144,
     "metadata": {},
     "output_type": "execute_result"
    }
   ],
   "source": [
    "import predict\n",
    "import imp\n",
    "imp.reload(predict)"
   ]
  },
  {
   "cell_type": "code",
   "execution_count": 145,
   "metadata": {},
   "outputs": [
    {
     "data": {
      "text/plain": [
       "([0, 0, 0, 1, 2, 0, 0, 0, 0, 0],\n",
       " 0,\n",
       " 0,\n",
       " array([-0.03674952, -0.08301251,  0.17979765,  0.07528068,  1.4731266 ],\n",
       "       dtype=float32),\n",
       " 1,\n",
       " 0,\n",
       " 0,\n",
       " [0, 0, 0, 0],\n",
       " [0, 0, 0, 1],\n",
       " [0, 0, 1, 0],\n",
       " 0)"
      ]
     },
     "execution_count": 145,
     "metadata": {},
     "output_type": "execute_result"
    }
   ],
   "source": [
    "predict.network([10,11,12,3],36,1,[1,1,0,0,3],34,1,1,[18,6,2,17],[18,6,2,7],[18,6,2,7],1)"
   ]
  },
  {
   "cell_type": "code",
   "execution_count": 73,
   "metadata": {},
   "outputs": [],
   "source": [
    "directory_global=[[0]*5]*10\n",
    "directory_model=load_model(\"../model/directory_LSTM.h5\")\n",
    "def directory_predict(directory):\n",
    "    global directory_global,directory_model\n",
    "    directory_global=directory_global[1:]\n",
    "    directory_global.append(np.array(directory)-np.array(directory_global[8]))\n",
    "    #y=to_categorical(directory_global,num_classes=10)\n",
    "    y=np.array(directory_global)\n",
    "    y=y.reshape(1,10,5)\n",
    "    pred=directory_model.predict(y,verbose=0)[0]\n",
    "    #p=np.argmax(pred)\n",
    "    #return [p//10000,p//1000-p//10000*10,p//100-p//1000*10,p//10-p//100*10,p-p//10*10]\n",
    "    ret=[]\n",
    "    for i in pred:\n",
    "        ret.append(int(i))\n",
    "    return ret"
   ]
  },
  {
   "cell_type": "code",
   "execution_count": 108,
   "metadata": {},
   "outputs": [
    {
     "data": {
      "text/plain": [
       "[0, 0, 0, 0, 0]"
      ]
     },
     "execution_count": 108,
     "metadata": {},
     "output_type": "execute_result"
    }
   ],
   "source": [
    "def directory_predict(directory):\n",
    "    global directory_global,directory_model\n",
    "    directory_global=directory_global[1:]\n",
    "    directory_global.append(np.array(directory)-np.array(directory_global[8]))\n",
    "    #y=to_categorical(directory_global,num_classes=10)\n",
    "    y=np.array(directory_global)\n",
    "    y=y.reshape(1,10,5)\n",
    "    pred=directory_model.predict(y,verbose=0)[0]\n",
    "    #p=np.argmax(pred)\n",
    "    #return [p//10000,p//1000-p//10000*10,p//100-p//1000*10,p//10-p//100*10,p-p//10*10]\n",
    "    ret=[]\n",
    "    for i in pred:\n",
    "        ret.append(int(i))\n",
    "    return ret\n",
    "directory_predict([1,1,0,2,0])"
   ]
  },
  {
   "cell_type": "code",
   "execution_count": null,
   "metadata": {},
   "outputs": [],
   "source": []
  }
 ],
 "metadata": {
  "kernelspec": {
   "display_name": "Python 3",
   "language": "python",
   "name": "python3"
  },
  "language_info": {
   "codemirror_mode": {
    "name": "ipython",
    "version": 3
   },
   "file_extension": ".py",
   "mimetype": "text/x-python",
   "name": "python",
   "nbconvert_exporter": "python",
   "pygments_lexer": "ipython3",
   "version": "3.5.4rc1"
  }
 },
 "nbformat": 4,
 "nbformat_minor": 2
}
