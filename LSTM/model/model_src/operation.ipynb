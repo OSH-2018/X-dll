{
 "cells": [
  {
   "cell_type": "code",
   "execution_count": 1,
   "metadata": {},
   "outputs": [
    {
     "name": "stderr",
     "output_type": "stream",
     "text": [
      "/home/drdh/.local/lib/python3.5/site-packages/h5py/__init__.py:36: FutureWarning: Conversion of the second argument of issubdtype from `float` to `np.floating` is deprecated. In future, it will be treated as `np.float64 == np.dtype(float).type`.\n",
      "  from ._conv import register_converters as _register_converters\n",
      "Using TensorFlow backend.\n"
     ]
    }
   ],
   "source": [
    "from keras.layers import Dense,Activation\n",
    "from keras.layers.recurrent import SimpleRNN\n",
    "from keras.models import Sequential\n",
    "from keras.utils import plot_model\n",
    "import numpy as np\n",
    "import matplotlib.pyplot as plt\n",
    "from keras.models import load_model\n",
    "from keras.utils import to_categorical"
   ]
  },
  {
   "cell_type": "code",
   "execution_count": 2,
   "metadata": {},
   "outputs": [],
   "source": [
    "operation=np.load(\"../data/generate_data/operation\")"
   ]
  },
  {
   "cell_type": "code",
   "execution_count": 3,
   "metadata": {},
   "outputs": [],
   "source": [
    "SEQLEN=10\n",
    "STEP=1\n",
    "\n",
    "input_operation=[]\n",
    "label_operation=[]\n",
    "for i in range(0,len(operation)-SEQLEN,STEP):\n",
    "    input_operation.append(operation[i:i+SEQLEN])\n",
    "    label_operation.append(operation[i+SEQLEN])\n",
    "    "
   ]
  },
  {
   "cell_type": "code",
   "execution_count": 8,
   "metadata": {},
   "outputs": [],
   "source": [
    "OPERATION_TYPE=2\n",
    "X=np.zeros((len(input_operation),SEQLEN,OPERATION_TYPE),dtype=np.bool)\n",
    "y=np.zeros((len(input_operation),OPERATION_TYPE),dtype=np.bool)\n",
    "for i,input_op in enumerate(input_operation):\n",
    "    for j,op in enumerate(input_op):\n",
    "        X[i,j,op]=1\n",
    "    y[i,label_operation[i]]=1"
   ]
  },
  {
   "cell_type": "code",
   "execution_count": 9,
   "metadata": {},
   "outputs": [],
   "source": [
    "HIDDEN_SIZE=32\n",
    "BATCH_SIZE=32\n",
    "NUM_ITERATION=25\n",
    "NUM_EPOCHS_PER_ITERATION=1\n",
    "NUM_PREDS_PER_EPOCHS=10\n",
    "\n",
    "model=Sequential()\n",
    "model.add(SimpleRNN(HIDDEN_SIZE,return_sequences=False,input_shape=(SEQLEN,OPERATION_TYPE),unroll=True))\n",
    "model.add(Dense(OPERATION_TYPE))\n",
    "model.add(Activation(\"softmax\"))\n",
    "\n",
    "model.compile(loss=\"binary_crossentropy\",optimizer=\"rmsprop\",metrics=['acc'])"
   ]
  },
  {
   "cell_type": "code",
   "execution_count": 10,
   "metadata": {},
   "outputs": [
    {
     "name": "stdout",
     "output_type": "stream",
     "text": [
      "_________________________________________________________________\n",
      "Layer (type)                 Output Shape              Param #   \n",
      "=================================================================\n",
      "simple_rnn_1 (SimpleRNN)     (None, 32)                1120      \n",
      "_________________________________________________________________\n",
      "dense_1 (Dense)              (None, 2)                 66        \n",
      "_________________________________________________________________\n",
      "activation_1 (Activation)    (None, 2)                 0         \n",
      "=================================================================\n",
      "Total params: 1,186\n",
      "Trainable params: 1,186\n",
      "Non-trainable params: 0\n",
      "_________________________________________________________________\n"
     ]
    }
   ],
   "source": [
    "plot_model(model,to_file=\"../img/operation_SimpleRNN_model.png\",show_shapes=True)\n",
    "model.summary()"
   ]
  },
  {
   "cell_type": "code",
   "execution_count": 11,
   "metadata": {},
   "outputs": [
    {
     "name": "stdout",
     "output_type": "stream",
     "text": [
      "Train on 1773 samples, validate on 2 samples\n",
      "Epoch 1/5\n",
      "1773/1773 [==============================] - 0s 208us/step - loss: 0.0938 - acc: 0.9814 - val_loss: 0.0099 - val_acc: 1.0000\n",
      "Epoch 2/5\n",
      "1773/1773 [==============================] - 0s 83us/step - loss: 0.0244 - acc: 0.9949 - val_loss: 0.0036 - val_acc: 1.0000\n",
      "Epoch 3/5\n",
      "1773/1773 [==============================] - 0s 107us/step - loss: 0.0180 - acc: 0.9966 - val_loss: 0.0034 - val_acc: 1.0000\n",
      "Epoch 4/5\n",
      "1773/1773 [==============================] - 0s 99us/step - loss: 0.0163 - acc: 0.9966 - val_loss: 0.0026 - val_acc: 1.0000\n",
      "Epoch 5/5\n",
      "1773/1773 [==============================] - 0s 84us/step - loss: 0.0150 - acc: 0.9972 - val_loss: 0.0031 - val_acc: 1.0000\n"
     ]
    }
   ],
   "source": [
    "X_val=np.zeros((2,SEQLEN,OPERATION_TYPE))\n",
    "y_val=np.zeros((2,OPERATION_TYPE))\n",
    "for i in range(2):\n",
    "    for j in range(SEQLEN):\n",
    "        X_val[i,j,i]=1\n",
    "    y_val[i,i]=1\n",
    "\n",
    "history=model.fit(X,y,batch_size=BATCH_SIZE,epochs=5,validation_data=(X_val,y_val))"
   ]
  },
  {
   "cell_type": "code",
   "execution_count": 13,
   "metadata": {},
   "outputs": [
    {
     "data": {
      "image/png": "[encoded data removed]",
      "text/plain": [
       "<Figure size 432x288 with 1 Axes>"
      ]
     },
     "metadata": {},
     "output_type": "display_data"
    }
   ],
   "source": [
    "acc=history.history['acc']\n",
    "val_acc=history.history['val_acc']\n",
    "loss=history.history['loss']\n",
    "val_loss=history.history['val_loss']\n",
    "\n",
    "epochs=range(1,len(acc)+1)\n",
    "\n",
    "plt.plot(epochs,acc,'b',label=\"Training acc\")\n",
    "plt.plot(epochs,val_acc,'g',label=\"Validation acc\")\n",
    "plt.plot(epochs,loss,'r',label=\"Training loss\")\n",
    "plt.plot(epochs,val_loss,'y',label=\"validation loss\")\n",
    "\n",
    "plt.legend()\n",
    "#plt.figure()\n",
    "plt.savefig(\"../img/operation_SimpleRNN.png\")\n",
    "#plt.show()"
   ]
  },
  {
   "cell_type": "code",
   "execution_count": 14,
   "metadata": {},
   "outputs": [],
   "source": [
    "model.save(\"../model/operation_SimpleRNN.h5\")\n",
    "model_r=load_model(\"../model/operation_SimpleRNN.h5\")"
   ]
  },
  {
   "cell_type": "code",
   "execution_count": 17,
   "metadata": {},
   "outputs": [
    {
     "data": {
      "text/plain": [
       "[0, 1]"
      ]
     },
     "execution_count": 17,
     "metadata": {},
     "output_type": "execute_result"
    }
   ],
   "source": [
    "X_test=np.zeros((2,1,SEQLEN,OPERATION_TYPE))\n",
    "for i in range(2):\n",
    "    for j in range(SEQLEN):\n",
    "        X_test[i,0,j,i]=1\n",
    "\n",
    "ypred=[]\n",
    "for i in range(2):\n",
    "    pred=model_r.predict(X_test[i],verbose=0)[0]\n",
    "    ypred.append(np.argmax(pred))\n",
    "ypred"
   ]
  },
  {
   "cell_type": "code",
   "execution_count": 20,
   "metadata": {},
   "outputs": [
    {
     "data": {
      "text/plain": [
       "<module 'predict' from '/home/drdh/lx/X-dll/LSTM/model/model_src/predict.py'>"
      ]
     },
     "execution_count": 20,
     "metadata": {},
     "output_type": "execute_result"
    }
   ],
   "source": [
    "import predict\n",
    "import imp\n",
    "imp.reload(predict)"
   ]
  },
  {
   "cell_type": "code",
   "execution_count": 23,
   "metadata": {},
   "outputs": [
    {
     "data": {
      "text/plain": [
       "([0, 0, 0, 1, 2, 0, 0, 0, 0, 0],\n",
       " 1,\n",
       " 0,\n",
       " [0, 0, 1, 0, 0],\n",
       " 0,\n",
       " 1,\n",
       " 0,\n",
       " [0, 0, 0, 0],\n",
       " [0, 0, 0, 1],\n",
       " [0, 0, 1, 0],\n",
       " 1)"
      ]
     },
     "execution_count": 23,
     "metadata": {},
     "output_type": "execute_result"
    }
   ],
   "source": [
    "predict.network([10,11,12,3],36,1,[1,4],34,1,4,[18,6,2,17],[18,6,2,7],[18,6,2,7],1)"
   ]
  },
  {
   "cell_type": "code",
   "execution_count": null,
   "metadata": {},
   "outputs": [],
   "source": []
  }
 ],
 "metadata": {
  "kernelspec": {
   "display_name": "Python 3",
   "language": "python",
   "name": "python3"
  },
  "language_info": {
   "codemirror_mode": {
    "name": "ipython",
    "version": 3
   },
   "file_extension": ".py",
   "mimetype": "text/x-python",
   "name": "python",
   "nbconvert_exporter": "python",
   "pygments_lexer": "ipython3",
   "version": "3.5.4rc1"
  }
 },
 "nbformat": 4,
 "nbformat_minor": 2
}
